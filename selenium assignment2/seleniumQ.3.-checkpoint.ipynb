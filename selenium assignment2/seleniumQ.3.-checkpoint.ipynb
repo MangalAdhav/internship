{
 "cells": [
  {
   "cell_type": "code",
   "execution_count": 1,
   "id": "292d61d0",
   "metadata": {},
   "outputs": [],
   "source": [
    "#Q3: In this question you have to scrape data using the filters available on the webpage as shown below:\n",
    "#    You have to use the location and salary filter.\n",
    "#    You have to scrape data for “Data Scientist” designation for first 10 job results.\n",
    "#    You have to scrape the job-title, job-location, company name, experience required. \n",
    "#    The location filter to be used is “Delhi/NCR”. The salary filter to be used is “3-6” lakhs\n"
   ]
  },
  {
   "cell_type": "code",
   "execution_count": 2,
   "id": "375e81ed",
   "metadata": {},
   "outputs": [],
   "source": [
    "# Let's now import all the required libraries.\n",
    "import selenium\n",
    "import pandas as pd\n",
    "from selenium import webdriver\n",
    "import warnings\n",
    "warnings.filterwarnings('ignore')\n",
    "import time\n",
    "from selenium.webdriver.common.keys import Keys\n",
    "from selenium.webdriver.common.by import By"
   ]
  },
  {
   "cell_type": "code",
   "execution_count": 3,
   "id": "cf5e866e",
   "metadata": {},
   "outputs": [],
   "source": [
    "#connect to the web driver\n",
    "driver = webdriver.Chrome()\n"
   ]
  },
  {
   "cell_type": "code",
   "execution_count": 4,
   "id": "e505d1a0",
   "metadata": {},
   "outputs": [],
   "source": [
    "#let's get website\n",
    "driver.get(\"https:www.shine.com/\")"
   ]
  },
  {
   "cell_type": "code",
   "execution_count": 5,
   "id": "a1611d7c",
   "metadata": {},
   "outputs": [],
   "source": [
    "#2. Let's enter “Data Scientist” in “Skill, Designations, and Companies” field.\n",
    "\n",
    "job_title=driver.find_element(By.CLASS_NAME,\"form-control  \")\n",
    "job_title.send_keys('Data Scientist')"
   ]
  },
  {
   "cell_type": "code",
   "execution_count": 6,
   "id": "90628124",
   "metadata": {},
   "outputs": [],
   "source": [
    "# 3. Then click the search button.\n",
    "search=driver.find_element(By.XPATH,\"/html/body/div/div[4]/div/div[2]/div[2]/div/form/div/div[2]/div/button\")\n",
    "search.click()\n"
   ]
  },
  {
   "cell_type": "code",
   "execution_count": 7,
   "id": "3ac4bc97",
   "metadata": {},
   "outputs": [],
   "source": [
    "click_loc=driver.find_element(By.XPATH,'//button[@class=\"filter_filterBtn__FAqUy btn btn-outline-grey font-size-xs \"]')\n",
    "\n",
    "click_loc.click()"
   ]
  },
  {
   "cell_type": "code",
   "execution_count": 8,
   "id": "011fea84",
   "metadata": {},
   "outputs": [],
   "source": [
    "select_delhi=driver.find_element(By.XPATH,'/html/body/div[3]/div/div/div/div[3]/div/div/div/ul/li[13]/span/label')\n",
    "select_delhi.click()"
   ]
  },
  {
   "cell_type": "code",
   "execution_count": 9,
   "id": "8cbe1252",
   "metadata": {},
   "outputs": [],
   "source": [
    "click_sal=driver.find_element(By.XPATH,'/html/body/div[3]/div/div/div/div[3]/div/ul/li[3]')\n",
    "click_sal.click()"
   ]
  },
  {
   "cell_type": "code",
   "execution_count": 10,
   "id": "a4c624b7",
   "metadata": {},
   "outputs": [],
   "source": [
    "select_range=driver.find_element(By.XPATH,'/html/body/div[3]/div/div/div/div[3]/div/div/div/ul/li[3]/span/label')\n",
    "select_range.click()"
   ]
  },
  {
   "cell_type": "code",
   "execution_count": 11,
   "id": "3c567f4f",
   "metadata": {},
   "outputs": [],
   "source": [
    "show_result=driver.find_element(By.XPATH,'//button[@class=\"btn btn-secondary\"]')\n",
    "show_result.click()"
   ]
  },
  {
   "cell_type": "code",
   "execution_count": 12,
   "id": "ce185950",
   "metadata": {},
   "outputs": [
    {
     "data": {
      "text/plain": [
       "['Data Scientist Urgent Vacancy',\n",
       " 'Data Analyst Opening',\n",
       " 'Qa Automation Engineer Opening',\n",
       " 'Machine Learning Engineer Urgent Vacancy',\n",
       " 'QA Tester Requirement Fresher and Experience',\n",
       " 'Hiring For Medical Billing',\n",
       " 'Funding coordinator',\n",
       " 'Cost manager',\n",
       " 'Cost analyst']"
      ]
     },
     "execution_count": 12,
     "metadata": {},
     "output_type": "execute_result"
    }
   ],
   "source": [
    "#let's extract Job titles\n",
    "\n",
    "title=driver.find_elements(By.XPATH,'//h2[@itemprop=\"name\"]')\n",
    "title[0:10]\n",
    "\n",
    "job_title = []\n",
    "\n",
    "for i in title[0:10]:\n",
    "    job_title.append(i.text)\n",
    "    \n",
    "job_title\n"
   ]
  },
  {
   "cell_type": "code",
   "execution_count": 13,
   "id": "86054e62",
   "metadata": {},
   "outputs": [
    {
     "data": {
      "text/plain": [
       "['Other Gujarat\\n+14',\n",
       " 'Other Gujarat\\n+14',\n",
       " 'Other Gujarat\\n+14',\n",
       " 'Other Gujarat\\n+13',\n",
       " 'Other Gujarat\\n+14',\n",
       " 'Other Gujarat\\n+14',\n",
       " 'Other Gujarat\\n+10',\n",
       " 'Other Gujarat\\n+9',\n",
       " 'Other Gujarat\\n+9']"
      ]
     },
     "execution_count": 13,
     "metadata": {},
     "output_type": "execute_result"
    }
   ],
   "source": [
    "#lets extract the job_location\n",
    "\n",
    "location = driver.find_elements(By.XPATH,'//div[@class=\" jobCard_jobCard_lists_item__YxRkV jobCard_locationIcon__zrWt2\"]')\n",
    "\n",
    "location[0:10]\n",
    "job_location = []\n",
    "\n",
    "for i in location[0:10]:\n",
    "    job_location.append(i.text)\n",
    "    \n",
    "job_location\n"
   ]
  },
  {
   "cell_type": "code",
   "execution_count": 14,
   "id": "8532be45",
   "metadata": {},
   "outputs": [
    {
     "data": {
      "text/plain": [
       "['yogita staffing solution',\n",
       " 'yogita staffing solution',\n",
       " 'yogita staffing solution',\n",
       " 'yogita staffing solution',\n",
       " 'yogita staffing solution',\n",
       " 'renuka interprises',\n",
       " 'envicare technologies private limit...',\n",
       " 'envicare technologies private limit...',\n",
       " 'envicare technologies private limit...']"
      ]
     },
     "execution_count": 14,
     "metadata": {},
     "output_type": "execute_result"
    }
   ],
   "source": [
    "#lets extract company name\n",
    "\n",
    "company =driver.find_elements(By.XPATH,'//div[@class=\"jobCard_jobCard_cName__mYnow\"]')\n",
    "\n",
    "company[0:10]\n",
    "company_name = []\n",
    "\n",
    "for i in company[0:10]:\n",
    "    company_name.append(i.text)\n",
    "    \n",
    "company_name"
   ]
  },
  {
   "cell_type": "code",
   "execution_count": 15,
   "id": "89eb335e",
   "metadata": {},
   "outputs": [
    {
     "data": {
      "text/plain": [
       "['0 to 3 Yrs',\n",
       " '0 to 3 Yrs',\n",
       " '0 to 3 Yrs',\n",
       " '0 to 3 Yrs',\n",
       " '0 to 3 Yrs',\n",
       " '0 to 4 Yrs',\n",
       " '1 to 6 Yrs',\n",
       " '1 to 6 Yrs',\n",
       " '1 to 6 Yrs']"
      ]
     },
     "execution_count": 15,
     "metadata": {},
     "output_type": "execute_result"
    }
   ],
   "source": [
    "#Lets extract experience year\n",
    "\n",
    "experience = driver.find_elements(By.XPATH,'//div[@class=\" jobCard_jobCard_lists_item__YxRkV jobCard_jobIcon__3FB1t\"]')\n",
    "experience[0:10]\n",
    "\n",
    "experience_req = []\n",
    "\n",
    "for i in experience[0:10]:\n",
    "    experience_req.append(i.text)\n",
    "    \n",
    "experience_req"
   ]
  },
  {
   "cell_type": "code",
   "execution_count": 16,
   "id": "740dc53d",
   "metadata": {},
   "outputs": [
    {
     "data": {
      "text/html": [
       "<div>\n",
       "<style scoped>\n",
       "    .dataframe tbody tr th:only-of-type {\n",
       "        vertical-align: middle;\n",
       "    }\n",
       "\n",
       "    .dataframe tbody tr th {\n",
       "        vertical-align: top;\n",
       "    }\n",
       "\n",
       "    .dataframe thead th {\n",
       "        text-align: right;\n",
       "    }\n",
       "</style>\n",
       "<table border=\"1\" class=\"dataframe\">\n",
       "  <thead>\n",
       "    <tr style=\"text-align: right;\">\n",
       "      <th></th>\n",
       "      <th>Job_title</th>\n",
       "      <th>Company_name</th>\n",
       "      <th>Job_location</th>\n",
       "      <th>Experience_required</th>\n",
       "    </tr>\n",
       "  </thead>\n",
       "  <tbody>\n",
       "    <tr>\n",
       "      <th>0</th>\n",
       "      <td>Data Scientist Urgent Vacancy</td>\n",
       "      <td>yogita staffing solution</td>\n",
       "      <td>Other Gujarat\\n+14</td>\n",
       "      <td>0 to 3 Yrs</td>\n",
       "    </tr>\n",
       "    <tr>\n",
       "      <th>1</th>\n",
       "      <td>Data Analyst Opening</td>\n",
       "      <td>yogita staffing solution</td>\n",
       "      <td>Other Gujarat\\n+14</td>\n",
       "      <td>0 to 3 Yrs</td>\n",
       "    </tr>\n",
       "    <tr>\n",
       "      <th>2</th>\n",
       "      <td>Qa Automation Engineer Opening</td>\n",
       "      <td>yogita staffing solution</td>\n",
       "      <td>Other Gujarat\\n+14</td>\n",
       "      <td>0 to 3 Yrs</td>\n",
       "    </tr>\n",
       "    <tr>\n",
       "      <th>3</th>\n",
       "      <td>Machine Learning Engineer Urgent Vacancy</td>\n",
       "      <td>yogita staffing solution</td>\n",
       "      <td>Other Gujarat\\n+13</td>\n",
       "      <td>0 to 3 Yrs</td>\n",
       "    </tr>\n",
       "    <tr>\n",
       "      <th>4</th>\n",
       "      <td>QA Tester Requirement Fresher and Experience</td>\n",
       "      <td>yogita staffing solution</td>\n",
       "      <td>Other Gujarat\\n+14</td>\n",
       "      <td>0 to 3 Yrs</td>\n",
       "    </tr>\n",
       "    <tr>\n",
       "      <th>5</th>\n",
       "      <td>Hiring For Medical Billing</td>\n",
       "      <td>renuka interprises</td>\n",
       "      <td>Other Gujarat\\n+14</td>\n",
       "      <td>0 to 4 Yrs</td>\n",
       "    </tr>\n",
       "    <tr>\n",
       "      <th>6</th>\n",
       "      <td>Funding coordinator</td>\n",
       "      <td>envicare technologies private limit...</td>\n",
       "      <td>Other Gujarat\\n+10</td>\n",
       "      <td>1 to 6 Yrs</td>\n",
       "    </tr>\n",
       "    <tr>\n",
       "      <th>7</th>\n",
       "      <td>Cost manager</td>\n",
       "      <td>envicare technologies private limit...</td>\n",
       "      <td>Other Gujarat\\n+9</td>\n",
       "      <td>1 to 6 Yrs</td>\n",
       "    </tr>\n",
       "    <tr>\n",
       "      <th>8</th>\n",
       "      <td>Cost analyst</td>\n",
       "      <td>envicare technologies private limit...</td>\n",
       "      <td>Other Gujarat\\n+9</td>\n",
       "      <td>1 to 6 Yrs</td>\n",
       "    </tr>\n",
       "  </tbody>\n",
       "</table>\n",
       "</div>"
      ],
      "text/plain": [
       "                                      Job_title  \\\n",
       "0                 Data Scientist Urgent Vacancy   \n",
       "1                          Data Analyst Opening   \n",
       "2                Qa Automation Engineer Opening   \n",
       "3      Machine Learning Engineer Urgent Vacancy   \n",
       "4  QA Tester Requirement Fresher and Experience   \n",
       "5                    Hiring For Medical Billing   \n",
       "6                           Funding coordinator   \n",
       "7                                  Cost manager   \n",
       "8                                  Cost analyst   \n",
       "\n",
       "                             Company_name        Job_location  \\\n",
       "0                yogita staffing solution  Other Gujarat\\n+14   \n",
       "1                yogita staffing solution  Other Gujarat\\n+14   \n",
       "2                yogita staffing solution  Other Gujarat\\n+14   \n",
       "3                yogita staffing solution  Other Gujarat\\n+13   \n",
       "4                yogita staffing solution  Other Gujarat\\n+14   \n",
       "5                      renuka interprises  Other Gujarat\\n+14   \n",
       "6  envicare technologies private limit...  Other Gujarat\\n+10   \n",
       "7  envicare technologies private limit...   Other Gujarat\\n+9   \n",
       "8  envicare technologies private limit...   Other Gujarat\\n+9   \n",
       "\n",
       "  Experience_required  \n",
       "0          0 to 3 Yrs  \n",
       "1          0 to 3 Yrs  \n",
       "2          0 to 3 Yrs  \n",
       "3          0 to 3 Yrs  \n",
       "4          0 to 3 Yrs  \n",
       "5          0 to 4 Yrs  \n",
       "6          1 to 6 Yrs  \n",
       "7          1 to 6 Yrs  \n",
       "8          1 to 6 Yrs  "
      ]
     },
     "execution_count": 16,
     "metadata": {},
     "output_type": "execute_result"
    }
   ],
   "source": [
    "#lets make dataframe for this scrached data\n",
    "\n",
    "df = pd.DataFrame({'Job_title':job_title,'Company_name':company_name,'Job_location':job_location,'Experience_required':experience_req})\n",
    "\n",
    "df"
   ]
  },
  {
   "cell_type": "code",
   "execution_count": null,
   "id": "56808bca",
   "metadata": {},
   "outputs": [],
   "source": []
  },
  {
   "cell_type": "code",
   "execution_count": null,
   "id": "e19ee080",
   "metadata": {},
   "outputs": [],
   "source": []
  }
 ],
 "metadata": {
  "kernelspec": {
   "display_name": "Python 3 (ipykernel)",
   "language": "python",
   "name": "python3"
  },
  "language_info": {
   "codemirror_mode": {
    "name": "ipython",
    "version": 3
   },
   "file_extension": ".py",
   "mimetype": "text/x-python",
   "name": "python",
   "nbconvert_exporter": "python",
   "pygments_lexer": "ipython3",
   "version": "3.11.3"
  }
 },
 "nbformat": 4,
 "nbformat_minor": 5
}
