{
 "cells": [
  {
   "cell_type": "code",
   "execution_count": 47,
   "id": "d58f4fff",
   "metadata": {},
   "outputs": [],
   "source": [
    "#Q.1) Write a python program to scrape data for “Data Analyst” Job position in“Bangalore” location. You\n",
    "#have to scrape the job-title, job-location, company_name,experience_required. You have to scrape first 10 jobs data.\n",
    "\n",
    "#let's import required librabries\n",
    "\n",
    "import selenium\n",
    "import pandas as pd\n",
    "from selenium import webdriver\n",
    "#import warning\n",
    "#warnings.filterwarnings('ignore')\n",
    "from selenium.webdriver.common.by import By\n",
    "import time"
   ]
  },
  {
   "cell_type": "code",
   "execution_count": 43,
   "id": "5724f9a9",
   "metadata": {},
   "outputs": [],
   "source": [
    "#let's connect to webbrowser chrome\n",
    "driver=webdriver.Chrome()"
   ]
  },
  {
   "cell_type": "code",
   "execution_count": 44,
   "id": "04d454c0",
   "metadata": {},
   "outputs": [],
   "source": [
    "#lets open website to access content\n",
    "driver.get(\"https:www.shine.com/\")"
   ]
  },
  {
   "cell_type": "code",
   "execution_count": 45,
   "id": "916d9c74",
   "metadata": {},
   "outputs": [],
   "source": [
    "#let's enter key to search as Data Analyst for job title\n",
    "job_title=driver.find_element(By.XPATH,\"/html/body/div/div[4]/div/div[2]/div[2]/div/form/div/div[1]/ul/li[1]/div/input\")\n",
    "job_title.send_keys('Data Analyst')"
   ]
  },
  {
   "cell_type": "code",
   "execution_count": 46,
   "id": "8fe5f1f0",
   "metadata": {},
   "outputs": [],
   "source": [
    "#lets enter key to search as Bangalore for job location\n",
    "location=driver.find_element(By.XPATH,\"/html/body/div/div[4]/div/div[2]/div[2]/div/form/div/div[1]/ul/li[2]/div/input\")\n",
    "location.send_keys('Bangalore')"
   ]
  },
  {
   "cell_type": "code",
   "execution_count": 48,
   "id": "8ed41571",
   "metadata": {},
   "outputs": [],
   "source": [
    "#let's click search button\n",
    "\n",
    "search=driver.find_element(By.XPATH,\"/html/body/div/div[4]/div/div[2]/div[2]/div/form/div/div[2]/div/button\")\n",
    "search.click()"
   ]
  },
  {
   "cell_type": "code",
   "execution_count": 49,
   "id": "65f61509",
   "metadata": {},
   "outputs": [
    {
     "data": {
      "text/plain": [
       "[<selenium.webdriver.remote.webelement.WebElement (session=\"5772eb219908d8f64d7d16cd7013d8f3\", element=\"CC7B8A3DE5E0C642F746714F82D2CEF7_element_7315\")>,\n",
       " <selenium.webdriver.remote.webelement.WebElement (session=\"5772eb219908d8f64d7d16cd7013d8f3\", element=\"CC7B8A3DE5E0C642F746714F82D2CEF7_element_7457\")>,\n",
       " <selenium.webdriver.remote.webelement.WebElement (session=\"5772eb219908d8f64d7d16cd7013d8f3\", element=\"CC7B8A3DE5E0C642F746714F82D2CEF7_element_7458\")>,\n",
       " <selenium.webdriver.remote.webelement.WebElement (session=\"5772eb219908d8f64d7d16cd7013d8f3\", element=\"CC7B8A3DE5E0C642F746714F82D2CEF7_element_7459\")>,\n",
       " <selenium.webdriver.remote.webelement.WebElement (session=\"5772eb219908d8f64d7d16cd7013d8f3\", element=\"CC7B8A3DE5E0C642F746714F82D2CEF7_element_7460\")>,\n",
       " <selenium.webdriver.remote.webelement.WebElement (session=\"5772eb219908d8f64d7d16cd7013d8f3\", element=\"CC7B8A3DE5E0C642F746714F82D2CEF7_element_7461\")>,\n",
       " <selenium.webdriver.remote.webelement.WebElement (session=\"5772eb219908d8f64d7d16cd7013d8f3\", element=\"CC7B8A3DE5E0C642F746714F82D2CEF7_element_7462\")>,\n",
       " <selenium.webdriver.remote.webelement.WebElement (session=\"5772eb219908d8f64d7d16cd7013d8f3\", element=\"CC7B8A3DE5E0C642F746714F82D2CEF7_element_7463\")>,\n",
       " <selenium.webdriver.remote.webelement.WebElement (session=\"5772eb219908d8f64d7d16cd7013d8f3\", element=\"CC7B8A3DE5E0C642F746714F82D2CEF7_element_7464\")>,\n",
       " <selenium.webdriver.remote.webelement.WebElement (session=\"5772eb219908d8f64d7d16cd7013d8f3\", element=\"CC7B8A3DE5E0C642F746714F82D2CEF7_element_7465\")>]"
      ]
     },
     "execution_count": 49,
     "metadata": {},
     "output_type": "execute_result"
    }
   ],
   "source": [
    "#let's extract Job titles\n",
    "\n",
    "title=driver.find_elements(By.XPATH,'//h2[@itemprop=\"name\"]')\n",
    "title[0:10]\n",
    "\n"
   ]
  },
  {
   "cell_type": "code",
   "execution_count": 50,
   "id": "9bfb381f",
   "metadata": {},
   "outputs": [
    {
     "data": {
      "text/plain": [
       "['Lead Data Analyst',\n",
       " 'Data Analyst',\n",
       " 'Vacancy For Data Analyst',\n",
       " 'Clinical Data Analyst',\n",
       " 'Data Management',\n",
       " 'Data Modeler data',\n",
       " 'Data Modeller',\n",
       " 'Data Modeler Bangalore',\n",
       " 'Data Modeler',\n",
       " 'Full time Opportunity-Networking Advisor-Cisco Nexus -D ...']"
      ]
     },
     "execution_count": 50,
     "metadata": {},
     "output_type": "execute_result"
    }
   ],
   "source": [
    "#lets extract the text from the title\n",
    "\n",
    "job_title = []\n",
    "\n",
    "for i in title[0:10]:\n",
    "    job_title.append(i.text)\n",
    "    \n",
    "job_title"
   ]
  },
  {
   "cell_type": "code",
   "execution_count": 51,
   "id": "33618474",
   "metadata": {},
   "outputs": [
    {
     "data": {
      "text/plain": [
       "[<selenium.webdriver.remote.webelement.WebElement (session=\"5772eb219908d8f64d7d16cd7013d8f3\", element=\"CC7B8A3DE5E0C642F746714F82D2CEF7_element_7004\")>,\n",
       " <selenium.webdriver.remote.webelement.WebElement (session=\"5772eb219908d8f64d7d16cd7013d8f3\", element=\"CC7B8A3DE5E0C642F746714F82D2CEF7_element_7006\")>,\n",
       " <selenium.webdriver.remote.webelement.WebElement (session=\"5772eb219908d8f64d7d16cd7013d8f3\", element=\"CC7B8A3DE5E0C642F746714F82D2CEF7_element_7476\")>,\n",
       " <selenium.webdriver.remote.webelement.WebElement (session=\"5772eb219908d8f64d7d16cd7013d8f3\", element=\"CC7B8A3DE5E0C642F746714F82D2CEF7_element_7477\")>,\n",
       " <selenium.webdriver.remote.webelement.WebElement (session=\"5772eb219908d8f64d7d16cd7013d8f3\", element=\"CC7B8A3DE5E0C642F746714F82D2CEF7_element_7478\")>,\n",
       " <selenium.webdriver.remote.webelement.WebElement (session=\"5772eb219908d8f64d7d16cd7013d8f3\", element=\"CC7B8A3DE5E0C642F746714F82D2CEF7_element_7479\")>,\n",
       " <selenium.webdriver.remote.webelement.WebElement (session=\"5772eb219908d8f64d7d16cd7013d8f3\", element=\"CC7B8A3DE5E0C642F746714F82D2CEF7_element_7480\")>,\n",
       " <selenium.webdriver.remote.webelement.WebElement (session=\"5772eb219908d8f64d7d16cd7013d8f3\", element=\"CC7B8A3DE5E0C642F746714F82D2CEF7_element_7481\")>,\n",
       " <selenium.webdriver.remote.webelement.WebElement (session=\"5772eb219908d8f64d7d16cd7013d8f3\", element=\"CC7B8A3DE5E0C642F746714F82D2CEF7_element_7482\")>,\n",
       " <selenium.webdriver.remote.webelement.WebElement (session=\"5772eb219908d8f64d7d16cd7013d8f3\", element=\"CC7B8A3DE5E0C642F746714F82D2CEF7_element_7483\")>]"
      ]
     },
     "execution_count": 51,
     "metadata": {},
     "output_type": "execute_result"
    }
   ],
   "source": [
    "#lets extract the job_location\n",
    "\n",
    "location = driver.find_elements(By.XPATH,'//div[@class=\" jobCard_jobCard_lists_item__YxRkV jobCard_locationIcon__zrWt2\"]')\n",
    "\n",
    "location[0:10]\n"
   ]
  },
  {
   "cell_type": "code",
   "execution_count": 52,
   "id": "808485a7",
   "metadata": {},
   "outputs": [
    {
     "data": {
      "text/plain": [
       "['Bangalore',\n",
       " 'Bangalore\\n+3',\n",
       " 'Bangalore\\n+14',\n",
       " 'Bangalore\\n+6',\n",
       " 'Bangalore\\n+18',\n",
       " 'Bangalore',\n",
       " 'Bangalore',\n",
       " 'Bangalore',\n",
       " 'Bangalore',\n",
       " 'Bangalore\\n+5']"
      ]
     },
     "execution_count": 52,
     "metadata": {},
     "output_type": "execute_result"
    }
   ],
   "source": [
    "#lets extract text from the location\n",
    "\n",
    "job_location = []\n",
    "\n",
    "for i in location[0:10]:\n",
    "    job_location.append(i.text)\n",
    "    \n",
    "job_location"
   ]
  },
  {
   "cell_type": "code",
   "execution_count": 53,
   "id": "e1d346cc",
   "metadata": {},
   "outputs": [
    {
     "data": {
      "text/plain": [
       "[<selenium.webdriver.remote.webelement.WebElement (session=\"5772eb219908d8f64d7d16cd7013d8f3\", element=\"CC7B8A3DE5E0C642F746714F82D2CEF7_element_12045\")>,\n",
       " <selenium.webdriver.remote.webelement.WebElement (session=\"5772eb219908d8f64d7d16cd7013d8f3\", element=\"CC7B8A3DE5E0C642F746714F82D2CEF7_element_12081\")>,\n",
       " <selenium.webdriver.remote.webelement.WebElement (session=\"5772eb219908d8f64d7d16cd7013d8f3\", element=\"CC7B8A3DE5E0C642F746714F82D2CEF7_element_12130\")>,\n",
       " <selenium.webdriver.remote.webelement.WebElement (session=\"5772eb219908d8f64d7d16cd7013d8f3\", element=\"CC7B8A3DE5E0C642F746714F82D2CEF7_element_12173\")>,\n",
       " <selenium.webdriver.remote.webelement.WebElement (session=\"5772eb219908d8f64d7d16cd7013d8f3\", element=\"CC7B8A3DE5E0C642F746714F82D2CEF7_element_12224\")>,\n",
       " <selenium.webdriver.remote.webelement.WebElement (session=\"5772eb219908d8f64d7d16cd7013d8f3\", element=\"CC7B8A3DE5E0C642F746714F82D2CEF7_element_12267\")>,\n",
       " <selenium.webdriver.remote.webelement.WebElement (session=\"5772eb219908d8f64d7d16cd7013d8f3\", element=\"CC7B8A3DE5E0C642F746714F82D2CEF7_element_12333\")>,\n",
       " <selenium.webdriver.remote.webelement.WebElement (session=\"5772eb219908d8f64d7d16cd7013d8f3\", element=\"CC7B8A3DE5E0C642F746714F82D2CEF7_element_12373\")>,\n",
       " <selenium.webdriver.remote.webelement.WebElement (session=\"5772eb219908d8f64d7d16cd7013d8f3\", element=\"CC7B8A3DE5E0C642F746714F82D2CEF7_element_12413\")>,\n",
       " <selenium.webdriver.remote.webelement.WebElement (session=\"5772eb219908d8f64d7d16cd7013d8f3\", element=\"CC7B8A3DE5E0C642F746714F82D2CEF7_element_12454\")>]"
      ]
     },
     "execution_count": 53,
     "metadata": {},
     "output_type": "execute_result"
    }
   ],
   "source": [
    "#lets extract company name\n",
    "\n",
    "company =driver.find_elements(By.XPATH,'//div[@class=\"jobCard_jobCard_cName__mYnow\"]')\n",
    "\n",
    "company[0:10]"
   ]
  },
  {
   "cell_type": "code",
   "execution_count": 54,
   "id": "f3ceb2bc",
   "metadata": {},
   "outputs": [
    {
     "data": {
      "text/plain": [
       "['ara resources private limited',\n",
       " 'diraa hr services hiring for mncs',\n",
       " 'yogita staffing solution',\n",
       " 'techno endura',\n",
       " 'future solution centre',\n",
       " 'boyen haddin consulting and technol...',\n",
       " 'boyen haddin consulting and technol...',\n",
       " 'boyen haddin consulting and technol...',\n",
       " 'boyen haddin consulting and technol...',\n",
       " 'ntt data information processing ser...']"
      ]
     },
     "execution_count": 54,
     "metadata": {},
     "output_type": "execute_result"
    }
   ],
   "source": [
    "#lets extract text from the company name\n",
    "\n",
    "company_name = []\n",
    "\n",
    "for i in company[0:10]:\n",
    "    company_name.append(i.text)\n",
    "    \n",
    "company_name"
   ]
  },
  {
   "cell_type": "code",
   "execution_count": 63,
   "id": "b3ca93c8",
   "metadata": {},
   "outputs": [
    {
     "data": {
      "text/plain": [
       "[<selenium.webdriver.remote.webelement.WebElement (session=\"5772eb219908d8f64d7d16cd7013d8f3\", element=\"CC7B8A3DE5E0C642F746714F82D2CEF7_element_12048\")>,\n",
       " <selenium.webdriver.remote.webelement.WebElement (session=\"5772eb219908d8f64d7d16cd7013d8f3\", element=\"CC7B8A3DE5E0C642F746714F82D2CEF7_element_12084\")>,\n",
       " <selenium.webdriver.remote.webelement.WebElement (session=\"5772eb219908d8f64d7d16cd7013d8f3\", element=\"CC7B8A3DE5E0C642F746714F82D2CEF7_element_12133\")>,\n",
       " <selenium.webdriver.remote.webelement.WebElement (session=\"5772eb219908d8f64d7d16cd7013d8f3\", element=\"CC7B8A3DE5E0C642F746714F82D2CEF7_element_12176\")>,\n",
       " <selenium.webdriver.remote.webelement.WebElement (session=\"5772eb219908d8f64d7d16cd7013d8f3\", element=\"CC7B8A3DE5E0C642F746714F82D2CEF7_element_12227\")>,\n",
       " <selenium.webdriver.remote.webelement.WebElement (session=\"5772eb219908d8f64d7d16cd7013d8f3\", element=\"CC7B8A3DE5E0C642F746714F82D2CEF7_element_12270\")>,\n",
       " <selenium.webdriver.remote.webelement.WebElement (session=\"5772eb219908d8f64d7d16cd7013d8f3\", element=\"CC7B8A3DE5E0C642F746714F82D2CEF7_element_12336\")>,\n",
       " <selenium.webdriver.remote.webelement.WebElement (session=\"5772eb219908d8f64d7d16cd7013d8f3\", element=\"CC7B8A3DE5E0C642F746714F82D2CEF7_element_12376\")>,\n",
       " <selenium.webdriver.remote.webelement.WebElement (session=\"5772eb219908d8f64d7d16cd7013d8f3\", element=\"CC7B8A3DE5E0C642F746714F82D2CEF7_element_12416\")>,\n",
       " <selenium.webdriver.remote.webelement.WebElement (session=\"5772eb219908d8f64d7d16cd7013d8f3\", element=\"CC7B8A3DE5E0C642F746714F82D2CEF7_element_12457\")>]"
      ]
     },
     "execution_count": 63,
     "metadata": {},
     "output_type": "execute_result"
    }
   ],
   "source": [
    "#Lets extract experience year\n",
    "\n",
    "experience = driver.find_elements(By.XPATH,'//div[@class=\" jobCard_jobCard_lists_item__YxRkV jobCard_jobIcon__3FB1t\"]')\n",
    "experience[0:10]"
   ]
  },
  {
   "cell_type": "code",
   "execution_count": 64,
   "id": "13bc2bca",
   "metadata": {},
   "outputs": [
    {
     "data": {
      "text/plain": [
       "['4 to 9 Yrs',\n",
       " '0 to 1 Yr',\n",
       " '0 to 3 Yrs',\n",
       " '0 to 1 Yr',\n",
       " '15 to >25 Yrs',\n",
       " '3 to 6 Yrs',\n",
       " '3 to 6 Yrs',\n",
       " '3 to 6 Yrs',\n",
       " '3 to 6 Yrs',\n",
       " '10 to 20 Yrs']"
      ]
     },
     "execution_count": 64,
     "metadata": {},
     "output_type": "execute_result"
    }
   ],
   "source": [
    "#lets extract text from the experience required\n",
    "\n",
    "experience_req = []\n",
    "\n",
    "for i in experience[0:10]:\n",
    "    experience_req.append(i.text)\n",
    "    \n",
    "experience_req"
   ]
  },
  {
   "cell_type": "code",
   "execution_count": 66,
   "id": "3991d766",
   "metadata": {},
   "outputs": [
    {
     "data": {
      "text/html": [
       "<div>\n",
       "<style scoped>\n",
       "    .dataframe tbody tr th:only-of-type {\n",
       "        vertical-align: middle;\n",
       "    }\n",
       "\n",
       "    .dataframe tbody tr th {\n",
       "        vertical-align: top;\n",
       "    }\n",
       "\n",
       "    .dataframe thead th {\n",
       "        text-align: right;\n",
       "    }\n",
       "</style>\n",
       "<table border=\"1\" class=\"dataframe\">\n",
       "  <thead>\n",
       "    <tr style=\"text-align: right;\">\n",
       "      <th></th>\n",
       "      <th>Job_title</th>\n",
       "      <th>Company_name</th>\n",
       "      <th>Job_location</th>\n",
       "      <th>Experience_required</th>\n",
       "    </tr>\n",
       "  </thead>\n",
       "  <tbody>\n",
       "    <tr>\n",
       "      <th>0</th>\n",
       "      <td>Lead Data Analyst</td>\n",
       "      <td>ara resources private limited</td>\n",
       "      <td>Bangalore</td>\n",
       "      <td>4 to 9 Yrs</td>\n",
       "    </tr>\n",
       "    <tr>\n",
       "      <th>1</th>\n",
       "      <td>Data Analyst</td>\n",
       "      <td>diraa hr services hiring for mncs</td>\n",
       "      <td>Bangalore\\n+3</td>\n",
       "      <td>0 to 1 Yr</td>\n",
       "    </tr>\n",
       "    <tr>\n",
       "      <th>2</th>\n",
       "      <td>Vacancy For Data Analyst</td>\n",
       "      <td>yogita staffing solution</td>\n",
       "      <td>Bangalore\\n+14</td>\n",
       "      <td>0 to 3 Yrs</td>\n",
       "    </tr>\n",
       "    <tr>\n",
       "      <th>3</th>\n",
       "      <td>Clinical Data Analyst</td>\n",
       "      <td>techno endura</td>\n",
       "      <td>Bangalore\\n+6</td>\n",
       "      <td>0 to 1 Yr</td>\n",
       "    </tr>\n",
       "    <tr>\n",
       "      <th>4</th>\n",
       "      <td>Data Management</td>\n",
       "      <td>future solution centre</td>\n",
       "      <td>Bangalore\\n+18</td>\n",
       "      <td>15 to &gt;25 Yrs</td>\n",
       "    </tr>\n",
       "    <tr>\n",
       "      <th>5</th>\n",
       "      <td>Data Modeler data</td>\n",
       "      <td>boyen haddin consulting and technol...</td>\n",
       "      <td>Bangalore</td>\n",
       "      <td>3 to 6 Yrs</td>\n",
       "    </tr>\n",
       "    <tr>\n",
       "      <th>6</th>\n",
       "      <td>Data Modeller</td>\n",
       "      <td>boyen haddin consulting and technol...</td>\n",
       "      <td>Bangalore</td>\n",
       "      <td>3 to 6 Yrs</td>\n",
       "    </tr>\n",
       "    <tr>\n",
       "      <th>7</th>\n",
       "      <td>Data Modeler Bangalore</td>\n",
       "      <td>boyen haddin consulting and technol...</td>\n",
       "      <td>Bangalore</td>\n",
       "      <td>3 to 6 Yrs</td>\n",
       "    </tr>\n",
       "    <tr>\n",
       "      <th>8</th>\n",
       "      <td>Data Modeler</td>\n",
       "      <td>boyen haddin consulting and technol...</td>\n",
       "      <td>Bangalore</td>\n",
       "      <td>3 to 6 Yrs</td>\n",
       "    </tr>\n",
       "    <tr>\n",
       "      <th>9</th>\n",
       "      <td>Full time Opportunity-Networking Advisor-Cisco...</td>\n",
       "      <td>ntt data information processing ser...</td>\n",
       "      <td>Bangalore\\n+5</td>\n",
       "      <td>10 to 20 Yrs</td>\n",
       "    </tr>\n",
       "  </tbody>\n",
       "</table>\n",
       "</div>"
      ],
      "text/plain": [
       "                                           Job_title  \\\n",
       "0                                  Lead Data Analyst   \n",
       "1                                       Data Analyst   \n",
       "2                           Vacancy For Data Analyst   \n",
       "3                              Clinical Data Analyst   \n",
       "4                                    Data Management   \n",
       "5                                  Data Modeler data   \n",
       "6                                      Data Modeller   \n",
       "7                             Data Modeler Bangalore   \n",
       "8                                       Data Modeler   \n",
       "9  Full time Opportunity-Networking Advisor-Cisco...   \n",
       "\n",
       "                             Company_name    Job_location Experience_required  \n",
       "0           ara resources private limited       Bangalore          4 to 9 Yrs  \n",
       "1       diraa hr services hiring for mncs   Bangalore\\n+3           0 to 1 Yr  \n",
       "2                yogita staffing solution  Bangalore\\n+14          0 to 3 Yrs  \n",
       "3                           techno endura   Bangalore\\n+6           0 to 1 Yr  \n",
       "4                  future solution centre  Bangalore\\n+18       15 to >25 Yrs  \n",
       "5  boyen haddin consulting and technol...       Bangalore          3 to 6 Yrs  \n",
       "6  boyen haddin consulting and technol...       Bangalore          3 to 6 Yrs  \n",
       "7  boyen haddin consulting and technol...       Bangalore          3 to 6 Yrs  \n",
       "8  boyen haddin consulting and technol...       Bangalore          3 to 6 Yrs  \n",
       "9  ntt data information processing ser...   Bangalore\\n+5        10 to 20 Yrs  "
      ]
     },
     "execution_count": 66,
     "metadata": {},
     "output_type": "execute_result"
    }
   ],
   "source": [
    "#lets make dataframe for this scrached data\n",
    "\n",
    "df = pd.DataFrame({'Job_title':job_title,'Company_name':company_name,'Job_location':job_location,'Experience_required':experience_req})\n",
    "\n",
    "df"
   ]
  },
  {
   "cell_type": "code",
   "execution_count": null,
   "id": "57576780",
   "metadata": {},
   "outputs": [],
   "source": []
  }
 ],
 "metadata": {
  "kernelspec": {
   "display_name": "Python 3 (ipykernel)",
   "language": "python",
   "name": "python3"
  },
  "language_info": {
   "codemirror_mode": {
    "name": "ipython",
    "version": 3
   },
   "file_extension": ".py",
   "mimetype": "text/x-python",
   "name": "python",
   "nbconvert_exporter": "python",
   "pygments_lexer": "ipython3",
   "version": "3.11.3"
  }
 },
 "nbformat": 4,
 "nbformat_minor": 5
}
