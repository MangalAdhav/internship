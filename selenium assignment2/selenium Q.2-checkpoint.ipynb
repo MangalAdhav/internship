{
 "cells": [
  {
   "cell_type": "code",
   "execution_count": 48,
   "id": "da058f90",
   "metadata": {},
   "outputs": [],
   "source": [
    "#Q.2.Write a python program to scrape data for “Data Scientist” Job position in“Bangalore” location. You\n",
    "#have to scrape the job-title, job-location, company_name. You have to scrape first 10 jobs data.\n",
    "\n",
    "\n",
    "import selenium\n",
    "import pandas as pd\n",
    "from selenium import webdriver\n",
    "#import warning\n",
    "#warnings.filterwarnings('ignore')\n",
    "from selenium.webdriver.common.by import By\n",
    "import time"
   ]
  },
  {
   "cell_type": "code",
   "execution_count": 49,
   "id": "fe45b484",
   "metadata": {},
   "outputs": [],
   "source": [
    "driver=webdriver.Chrome()\n"
   ]
  },
  {
   "cell_type": "code",
   "execution_count": 50,
   "id": "11f99131",
   "metadata": {},
   "outputs": [],
   "source": [
    "driver.get(\"https:www.shine.com/\")"
   ]
  },
  {
   "cell_type": "code",
   "execution_count": 51,
   "id": "74f9c510",
   "metadata": {},
   "outputs": [],
   "source": [
    "job_title=driver.find_element(By.CLASS_NAME,\"form-control  \")\n",
    "job_title.send_keys('Data Scientist')"
   ]
  },
  {
   "cell_type": "code",
   "execution_count": 52,
   "id": "47c381c7",
   "metadata": {},
   "outputs": [],
   "source": [
    "location=driver.find_element(By.XPATH,'/html/body/div/div[4]/div/div[2]/div[2]/div/form/div/div[1]/ul/li[2]/div/input')\n",
    "location.send_keys('Bangalore')"
   ]
  },
  {
   "cell_type": "code",
   "execution_count": 53,
   "id": "f49a2e1f",
   "metadata": {},
   "outputs": [],
   "source": [
    "search=driver.find_element(By.XPATH,\"/html/body/div/div[4]/div/div[2]/div[2]/div/form/div/div[2]/div/button\")\n",
    "search.click()"
   ]
  },
  {
   "cell_type": "code",
   "execution_count": 59,
   "id": "fbe7829d",
   "metadata": {},
   "outputs": [
    {
     "data": {
      "text/plain": [
       "'ML Data Scientist'"
      ]
     },
     "execution_count": 59,
     "metadata": {},
     "output_type": "execute_result"
    }
   ],
   "source": [
    "title=driver.find_element(By.XPATH,\"/html/body/div[1]/div[1]/div[4]/div/div[2]/div[1]/div/div[1]/div[1]/div[1]/div[1]/h2/a\")\n",
    "title.text"
   ]
  },
  {
   "cell_type": "code",
   "execution_count": 71,
   "id": "739e0ac8",
   "metadata": {},
   "outputs": [
    {
     "data": {
      "text/plain": [
       "[<selenium.webdriver.remote.webelement.WebElement (session=\"194e85f84f7585155fc381968306b22d\", element=\"D04733C20655F6B89E9D1FC7A4D78DC3_element_5334\")>,\n",
       " <selenium.webdriver.remote.webelement.WebElement (session=\"194e85f84f7585155fc381968306b22d\", element=\"D04733C20655F6B89E9D1FC7A4D78DC3_element_5374\")>,\n",
       " <selenium.webdriver.remote.webelement.WebElement (session=\"194e85f84f7585155fc381968306b22d\", element=\"D04733C20655F6B89E9D1FC7A4D78DC3_element_5423\")>,\n",
       " <selenium.webdriver.remote.webelement.WebElement (session=\"194e85f84f7585155fc381968306b22d\", element=\"D04733C20655F6B89E9D1FC7A4D78DC3_element_5466\")>,\n",
       " <selenium.webdriver.remote.webelement.WebElement (session=\"194e85f84f7585155fc381968306b22d\", element=\"D04733C20655F6B89E9D1FC7A4D78DC3_element_5517\")>,\n",
       " <selenium.webdriver.remote.webelement.WebElement (session=\"194e85f84f7585155fc381968306b22d\", element=\"D04733C20655F6B89E9D1FC7A4D78DC3_element_5557\")>,\n",
       " <selenium.webdriver.remote.webelement.WebElement (session=\"194e85f84f7585155fc381968306b22d\", element=\"D04733C20655F6B89E9D1FC7A4D78DC3_element_5619\")>,\n",
       " <selenium.webdriver.remote.webelement.WebElement (session=\"194e85f84f7585155fc381968306b22d\", element=\"D04733C20655F6B89E9D1FC7A4D78DC3_element_5658\")>,\n",
       " <selenium.webdriver.remote.webelement.WebElement (session=\"194e85f84f7585155fc381968306b22d\", element=\"D04733C20655F6B89E9D1FC7A4D78DC3_element_5701\")>,\n",
       " <selenium.webdriver.remote.webelement.WebElement (session=\"194e85f84f7585155fc381968306b22d\", element=\"D04733C20655F6B89E9D1FC7A4D78DC3_element_5740\")>]"
      ]
     },
     "execution_count": 71,
     "metadata": {},
     "output_type": "execute_result"
    }
   ],
   "source": [
    "title=driver.find_elements(By.XPATH,'//h2[@itemprop=\"name\"]')\n",
    "title[0:10]\n"
   ]
  },
  {
   "cell_type": "code",
   "execution_count": 72,
   "id": "dad41da7",
   "metadata": {},
   "outputs": [
    {
     "data": {
      "text/plain": [
       "['ML Data Scientist',\n",
       " 'Data Scientist Urgent Vacancy',\n",
       " 'Data Scientist Recruitment',\n",
       " 'Data Scientist Recruitment',\n",
       " 'Data Scientist',\n",
       " 'Data Scientist',\n",
       " 'Lead Data Scientist/ Principal Data Scientist',\n",
       " 'Vacancy For Data Scientist Fresher and Experience',\n",
       " 'Senior Data Scientist',\n",
       " 'Lead Data Scientist']"
      ]
     },
     "execution_count": 72,
     "metadata": {},
     "output_type": "execute_result"
    }
   ],
   "source": [
    "#lets extract the text from the title\n",
    "\n",
    "job_title = []\n",
    "\n",
    "for i in title[0:10]:\n",
    "    job_title.append(i.text)\n",
    "\n",
    "    \n",
    "job_title"
   ]
  },
  {
   "cell_type": "code",
   "execution_count": 75,
   "id": "6ea1acf8",
   "metadata": {},
   "outputs": [
    {
     "data": {
      "text/plain": [
       "[<selenium.webdriver.remote.webelement.WebElement (session=\"194e85f84f7585155fc381968306b22d\", element=\"D04733C20655F6B89E9D1FC7A4D78DC3_element_5348\")>,\n",
       " <selenium.webdriver.remote.webelement.WebElement (session=\"194e85f84f7585155fc381968306b22d\", element=\"D04733C20655F6B89E9D1FC7A4D78DC3_element_5388\")>,\n",
       " <selenium.webdriver.remote.webelement.WebElement (session=\"194e85f84f7585155fc381968306b22d\", element=\"D04733C20655F6B89E9D1FC7A4D78DC3_element_5437\")>,\n",
       " <selenium.webdriver.remote.webelement.WebElement (session=\"194e85f84f7585155fc381968306b22d\", element=\"D04733C20655F6B89E9D1FC7A4D78DC3_element_5480\")>,\n",
       " <selenium.webdriver.remote.webelement.WebElement (session=\"194e85f84f7585155fc381968306b22d\", element=\"D04733C20655F6B89E9D1FC7A4D78DC3_element_5531\")>,\n",
       " <selenium.webdriver.remote.webelement.WebElement (session=\"194e85f84f7585155fc381968306b22d\", element=\"D04733C20655F6B89E9D1FC7A4D78DC3_element_5568\")>,\n",
       " <selenium.webdriver.remote.webelement.WebElement (session=\"194e85f84f7585155fc381968306b22d\", element=\"D04733C20655F6B89E9D1FC7A4D78DC3_element_5633\")>,\n",
       " <selenium.webdriver.remote.webelement.WebElement (session=\"194e85f84f7585155fc381968306b22d\", element=\"D04733C20655F6B89E9D1FC7A4D78DC3_element_5672\")>,\n",
       " <selenium.webdriver.remote.webelement.WebElement (session=\"194e85f84f7585155fc381968306b22d\", element=\"D04733C20655F6B89E9D1FC7A4D78DC3_element_5715\")>,\n",
       " <selenium.webdriver.remote.webelement.WebElement (session=\"194e85f84f7585155fc381968306b22d\", element=\"D04733C20655F6B89E9D1FC7A4D78DC3_element_5754\")>]"
      ]
     },
     "execution_count": 75,
     "metadata": {},
     "output_type": "execute_result"
    }
   ],
   "source": [
    "#lets extract the job_location\n",
    "\n",
    "location = driver.find_elements(By.XPATH,'//div[@class=\" jobCard_jobCard_lists_item__YxRkV jobCard_locationIcon__zrWt2\"]')\n",
    "\n",
    "location[0:10]\n"
   ]
  },
  {
   "cell_type": "code",
   "execution_count": 76,
   "id": "39454518",
   "metadata": {},
   "outputs": [
    {
     "data": {
      "text/plain": [
       "['Bangalore',\n",
       " 'Bangalore\\n+15',\n",
       " 'Bangalore\\n+15',\n",
       " 'Bangalore\\n+15',\n",
       " 'Bangalore\\n+4',\n",
       " 'Bangalore',\n",
       " 'Bangalore\\n+1',\n",
       " 'Bangalore\\n+14',\n",
       " 'Bangalore\\n+1',\n",
       " 'Bangalore\\n+1']"
      ]
     },
     "execution_count": 76,
     "metadata": {},
     "output_type": "execute_result"
    }
   ],
   "source": [
    "#lets extract text from the location\n",
    "\n",
    "job_location = []\n",
    "\n",
    "for i in location[0:10]:\n",
    "    job_location.append(i.text)\n",
    "    \n",
    "job_location"
   ]
  },
  {
   "cell_type": "code",
   "execution_count": 77,
   "id": "b0cdbbd4",
   "metadata": {},
   "outputs": [
    {
     "data": {
      "text/plain": [
       "[<selenium.webdriver.remote.webelement.WebElement (session=\"194e85f84f7585155fc381968306b22d\", element=\"D04733C20655F6B89E9D1FC7A4D78DC3_element_5337\")>,\n",
       " <selenium.webdriver.remote.webelement.WebElement (session=\"194e85f84f7585155fc381968306b22d\", element=\"D04733C20655F6B89E9D1FC7A4D78DC3_element_5377\")>,\n",
       " <selenium.webdriver.remote.webelement.WebElement (session=\"194e85f84f7585155fc381968306b22d\", element=\"D04733C20655F6B89E9D1FC7A4D78DC3_element_5426\")>,\n",
       " <selenium.webdriver.remote.webelement.WebElement (session=\"194e85f84f7585155fc381968306b22d\", element=\"D04733C20655F6B89E9D1FC7A4D78DC3_element_5469\")>,\n",
       " <selenium.webdriver.remote.webelement.WebElement (session=\"194e85f84f7585155fc381968306b22d\", element=\"D04733C20655F6B89E9D1FC7A4D78DC3_element_5520\")>,\n",
       " <selenium.webdriver.remote.webelement.WebElement (session=\"194e85f84f7585155fc381968306b22d\", element=\"D04733C20655F6B89E9D1FC7A4D78DC3_element_5560\")>,\n",
       " <selenium.webdriver.remote.webelement.WebElement (session=\"194e85f84f7585155fc381968306b22d\", element=\"D04733C20655F6B89E9D1FC7A4D78DC3_element_5622\")>,\n",
       " <selenium.webdriver.remote.webelement.WebElement (session=\"194e85f84f7585155fc381968306b22d\", element=\"D04733C20655F6B89E9D1FC7A4D78DC3_element_5661\")>,\n",
       " <selenium.webdriver.remote.webelement.WebElement (session=\"194e85f84f7585155fc381968306b22d\", element=\"D04733C20655F6B89E9D1FC7A4D78DC3_element_5704\")>,\n",
       " <selenium.webdriver.remote.webelement.WebElement (session=\"194e85f84f7585155fc381968306b22d\", element=\"D04733C20655F6B89E9D1FC7A4D78DC3_element_5743\")>]"
      ]
     },
     "execution_count": 77,
     "metadata": {},
     "output_type": "execute_result"
    }
   ],
   "source": [
    "#lets extract company name\n",
    "\n",
    "company =driver.find_elements(By.XPATH,'//div[@class=\"jobCard_jobCard_cName__mYnow\"]')\n",
    "\n",
    "company[0:10]"
   ]
  },
  {
   "cell_type": "code",
   "execution_count": 78,
   "id": "58149e07",
   "metadata": {},
   "outputs": [
    {
     "data": {
      "text/plain": [
       "['gujarat facility services hiring fo...',\n",
       " 'renuka interprises',\n",
       " 'renuka interprises',\n",
       " 'renuka interprises',\n",
       " 'acme services private limited',\n",
       " 'ltimindtree limited',\n",
       " 'fractal',\n",
       " 'yogita staffing solution',\n",
       " 'neostats',\n",
       " 'aereo']"
      ]
     },
     "execution_count": 78,
     "metadata": {},
     "output_type": "execute_result"
    }
   ],
   "source": [
    "#lets extract text from the company\n",
    "\n",
    "company_name = []\n",
    "\n",
    "for i in company[0:10]:\n",
    "    company_name.append(i.text)\n",
    "    \n",
    "company_name"
   ]
  },
  {
   "cell_type": "code",
   "execution_count": 79,
   "id": "3aa9d111",
   "metadata": {},
   "outputs": [
    {
     "data": {
      "text/html": [
       "<div>\n",
       "<style scoped>\n",
       "    .dataframe tbody tr th:only-of-type {\n",
       "        vertical-align: middle;\n",
       "    }\n",
       "\n",
       "    .dataframe tbody tr th {\n",
       "        vertical-align: top;\n",
       "    }\n",
       "\n",
       "    .dataframe thead th {\n",
       "        text-align: right;\n",
       "    }\n",
       "</style>\n",
       "<table border=\"1\" class=\"dataframe\">\n",
       "  <thead>\n",
       "    <tr style=\"text-align: right;\">\n",
       "      <th></th>\n",
       "      <th>job_title</th>\n",
       "      <th>company_name</th>\n",
       "      <th>job_location</th>\n",
       "    </tr>\n",
       "  </thead>\n",
       "  <tbody>\n",
       "    <tr>\n",
       "      <th>0</th>\n",
       "      <td>ML Data Scientist</td>\n",
       "      <td>gujarat facility services hiring fo...</td>\n",
       "      <td>Bangalore</td>\n",
       "    </tr>\n",
       "    <tr>\n",
       "      <th>1</th>\n",
       "      <td>Data Scientist Urgent Vacancy</td>\n",
       "      <td>renuka interprises</td>\n",
       "      <td>Bangalore\\n+15</td>\n",
       "    </tr>\n",
       "    <tr>\n",
       "      <th>2</th>\n",
       "      <td>Data Scientist Recruitment</td>\n",
       "      <td>renuka interprises</td>\n",
       "      <td>Bangalore\\n+15</td>\n",
       "    </tr>\n",
       "    <tr>\n",
       "      <th>3</th>\n",
       "      <td>Data Scientist Recruitment</td>\n",
       "      <td>renuka interprises</td>\n",
       "      <td>Bangalore\\n+15</td>\n",
       "    </tr>\n",
       "    <tr>\n",
       "      <th>4</th>\n",
       "      <td>Data Scientist</td>\n",
       "      <td>acme services private limited</td>\n",
       "      <td>Bangalore\\n+4</td>\n",
       "    </tr>\n",
       "    <tr>\n",
       "      <th>5</th>\n",
       "      <td>Data Scientist</td>\n",
       "      <td>ltimindtree limited</td>\n",
       "      <td>Bangalore</td>\n",
       "    </tr>\n",
       "    <tr>\n",
       "      <th>6</th>\n",
       "      <td>Lead Data Scientist/ Principal Data Scientist</td>\n",
       "      <td>fractal</td>\n",
       "      <td>Bangalore\\n+1</td>\n",
       "    </tr>\n",
       "    <tr>\n",
       "      <th>7</th>\n",
       "      <td>Vacancy For Data Scientist Fresher and Experience</td>\n",
       "      <td>yogita staffing solution</td>\n",
       "      <td>Bangalore\\n+14</td>\n",
       "    </tr>\n",
       "    <tr>\n",
       "      <th>8</th>\n",
       "      <td>Senior Data Scientist</td>\n",
       "      <td>neostats</td>\n",
       "      <td>Bangalore\\n+1</td>\n",
       "    </tr>\n",
       "    <tr>\n",
       "      <th>9</th>\n",
       "      <td>Lead Data Scientist</td>\n",
       "      <td>aereo</td>\n",
       "      <td>Bangalore\\n+1</td>\n",
       "    </tr>\n",
       "  </tbody>\n",
       "</table>\n",
       "</div>"
      ],
      "text/plain": [
       "                                           job_title  \\\n",
       "0                                  ML Data Scientist   \n",
       "1                      Data Scientist Urgent Vacancy   \n",
       "2                         Data Scientist Recruitment   \n",
       "3                         Data Scientist Recruitment   \n",
       "4                                     Data Scientist   \n",
       "5                                     Data Scientist   \n",
       "6      Lead Data Scientist/ Principal Data Scientist   \n",
       "7  Vacancy For Data Scientist Fresher and Experience   \n",
       "8                              Senior Data Scientist   \n",
       "9                                Lead Data Scientist   \n",
       "\n",
       "                             company_name    job_location  \n",
       "0  gujarat facility services hiring fo...       Bangalore  \n",
       "1                      renuka interprises  Bangalore\\n+15  \n",
       "2                      renuka interprises  Bangalore\\n+15  \n",
       "3                      renuka interprises  Bangalore\\n+15  \n",
       "4           acme services private limited   Bangalore\\n+4  \n",
       "5                     ltimindtree limited       Bangalore  \n",
       "6                                 fractal   Bangalore\\n+1  \n",
       "7                yogita staffing solution  Bangalore\\n+14  \n",
       "8                                neostats   Bangalore\\n+1  \n",
       "9                                   aereo   Bangalore\\n+1  "
      ]
     },
     "execution_count": 79,
     "metadata": {},
     "output_type": "execute_result"
    }
   ],
   "source": [
    "#lets make dataframe for this scrached data\n",
    "\n",
    "df = pd.DataFrame({'job_title':job_title,'company_name':company_name,'job_location':job_location})\n",
    "\n",
    "df"
   ]
  },
  {
   "cell_type": "code",
   "execution_count": null,
   "id": "65c02d3b",
   "metadata": {},
   "outputs": [],
   "source": []
  }
 ],
 "metadata": {
  "kernelspec": {
   "display_name": "Python 3 (ipykernel)",
   "language": "python",
   "name": "python3"
  },
  "language_info": {
   "codemirror_mode": {
    "name": "ipython",
    "version": 3
   },
   "file_extension": ".py",
   "mimetype": "text/x-python",
   "name": "python",
   "nbconvert_exporter": "python",
   "pygments_lexer": "ipython3",
   "version": "3.11.3"
  }
 },
 "nbformat": 4,
 "nbformat_minor": 5
}
