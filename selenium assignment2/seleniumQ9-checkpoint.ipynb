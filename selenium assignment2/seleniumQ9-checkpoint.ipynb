{
 "cells": [
  {
   "cell_type": "code",
   "execution_count": 11,
   "id": "6bc1f20f",
   "metadata": {},
   "outputs": [],
   "source": [
    "#Q9: Write a python program to display list of respected former Prime Ministers of India(i.e. Name, Born-Dead,\n",
    "#Term of office, Remarks) from https://www.jagranjosh.com/.\n",
    "\n",
    "\n",
    "#import all required libraries \n",
    "import selenium\n",
    "import pandas as pd\n",
    "from selenium import webdriver\n",
    "import warnings\n",
    "warnings.filterwarnings('ignore')\n",
    "import time\n",
    "from selenium.webdriver.common.keys import Keys\n",
    "from selenium.webdriver.common.by import By\n"
   ]
  },
  {
   "cell_type": "code",
   "execution_count": 12,
   "id": "03f369e8",
   "metadata": {},
   "outputs": [],
   "source": [
    "#lets connect with web driver\n",
    "driver = webdriver.Chrome()\n"
   ]
  },
  {
   "cell_type": "code",
   "execution_count": 13,
   "id": "5e141a71",
   "metadata": {},
   "outputs": [],
   "source": [
    "#onpening the website\n",
    "driver.get('https://jagranjosh.com/')\n"
   ]
  },
  {
   "cell_type": "code",
   "execution_count": 14,
   "id": "12fa2c8a",
   "metadata": {},
   "outputs": [],
   "source": [
    "#click on the GK button\n",
    "\n",
    "search = driver.find_element(By.XPATH,'/html/body/div/header/nav/div/div/div[3]/ul/li[3]/a')\n",
    "search.click()\n"
   ]
  },
  {
   "cell_type": "code",
   "execution_count": 16,
   "id": "eac1de25",
   "metadata": {},
   "outputs": [],
   "source": [
    "click_on_list=driver.find_element(By.XPATH,'/html/body/div[1]/div[9]/section[7]/div[2]/ul/li[3]/article/h3/a')\n",
    "click_on_list.click()\n"
   ]
  },
  {
   "cell_type": "code",
   "execution_count": 25,
   "id": "da5a9eaa",
   "metadata": {},
   "outputs": [],
   "source": [
    "body= driver.find_element(By.XPATH,'//div[@class=\"TableData\"]')\n",
    "\n",
    "Brand = []\n",
    "\n",
    "\n",
    "for i in range(3):\n",
    "    name = driver.find_elements(By.XPATH,'//div[@class=\"TableData\"]')\n",
    "    for i in name:Brand.append(i.text)\n",
    "    \n",
    "    \n",
    "time.sleep(2)\n",
    "        \n",
    "#nxt_button=driver.find_element(By.XPATH,'//a[@class=\"_1LKTO3\"]') #scraping the list of buttons from the page\n",
    "#nxt_button.click()\n",
    "\n"
   ]
  },
  {
   "cell_type": "code",
   "execution_count": 30,
   "id": "002f5e44",
   "metadata": {},
   "outputs": [],
   "source": [
    "df = pd.DataFrame({'Name':Brand})\n"
   ]
  },
  {
   "cell_type": "code",
   "execution_count": null,
   "id": "3720a446",
   "metadata": {},
   "outputs": [],
   "source": [
    "### I have tried but i don't know, how to retrieve data, its not ready to get me access like //div[@class=\"TableData\"]/tbody/tr"
   ]
  },
  {
   "cell_type": "code",
   "execution_count": null,
   "id": "7cef2a3b",
   "metadata": {},
   "outputs": [],
   "source": []
  }
 ],
 "metadata": {
  "kernelspec": {
   "display_name": "Python 3 (ipykernel)",
   "language": "python",
   "name": "python3"
  },
  "language_info": {
   "codemirror_mode": {
    "name": "ipython",
    "version": 3
   },
   "file_extension": ".py",
   "mimetype": "text/x-python",
   "name": "python",
   "nbconvert_exporter": "python",
   "pygments_lexer": "ipython3",
   "version": "3.11.3"
  }
 },
 "nbformat": 4,
 "nbformat_minor": 5
}
