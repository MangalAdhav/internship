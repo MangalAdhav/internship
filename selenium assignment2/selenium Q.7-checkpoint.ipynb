{
 "cells": [
  {
   "cell_type": "code",
   "execution_count": 35,
   "id": "7b8b3e7b",
   "metadata": {},
   "outputs": [],
   "source": [
    "#Q7: Go to webpage https://www.amazon.in/ Enter “Laptop” in the search field and then click the search icon. \n",
    "# then set CPU Type filter to “Intel Core i7” as shown in the below image:\n",
    "\n",
    "# Let's now import all the required libraries.\n",
    "import selenium\n",
    "import pandas as pd\n",
    "from selenium import webdriver\n",
    "import warnings\n",
    "warnings.filterwarnings('ignore')\n",
    "import time\n",
    "from selenium.webdriver.common.keys import Keys\n",
    "from selenium.webdriver.common.by import By"
   ]
  },
  {
   "cell_type": "code",
   "execution_count": 36,
   "id": "472931de",
   "metadata": {},
   "outputs": [],
   "source": [
    "#connect to the web driver\n",
    "driver = webdriver.Chrome()\n"
   ]
  },
  {
   "cell_type": "code",
   "execution_count": 37,
   "id": "7c25ec09",
   "metadata": {},
   "outputs": [],
   "source": [
    "#let's get website\n",
    "driver.get(\"https:www.amazon.in\")"
   ]
  },
  {
   "cell_type": "code",
   "execution_count": 38,
   "id": "bf66652b",
   "metadata": {},
   "outputs": [],
   "source": [
    "# Let's enter “Laptop” in search field.\n",
    "\n",
    "title=driver.find_element(By.XPATH,'/html/body/div[1]/header/div/div[1]/div[2]/div/form/div[2]/div[1]/input')\n",
    "title.send_keys('Laptop')"
   ]
  },
  {
   "cell_type": "code",
   "execution_count": 41,
   "id": "f63765d0",
   "metadata": {},
   "outputs": [],
   "source": [
    "# Then click the search button.\n",
    "search=driver.find_element(By.XPATH,'/html/body/div[1]/header/div/div[1]/div[2]/div/form/div[3]/div/span/input')\n",
    "search.click()\n"
   ]
  },
  {
   "cell_type": "code",
   "execution_count": 44,
   "id": "1bcaf68a",
   "metadata": {},
   "outputs": [],
   "source": [
    "#let's select intel core i7\n",
    "select_filter=driver.find_element(By.XPATH,'/html/body/div[1]/div[1]/div[1]/div[2]/div/div[3]/span/div[1]/div/div/div[6]/ul[19]/span/span[9]/li/span/a/span')\n",
    "select_filter.click()"
   ]
  },
  {
   "cell_type": "code",
   "execution_count": null,
   "id": "6266b713",
   "metadata": {},
   "outputs": [],
   "source": [
    "click_i7=driver.find_element(By.XPATH'/html/body/div[1]/div[1]/div[1]/div[2]/div/div[3]/span/div[1]/div/div/div[8]/ul[19]/span/span[10]/li/span/a/span')\n",
    "click_i7.click()                         "
   ]
  },
  {
   "cell_type": "code",
   "execution_count": 46,
   "id": "28e4e361",
   "metadata": {},
   "outputs": [
    {
     "data": {
      "text/plain": [
       "[<selenium.webdriver.remote.webelement.WebElement (session=\"93d6ef82a53a8c7cf75e694a66d78c1c\", element=\"EC862D51924FDF26AC61016DE05CCE32_element_7342\")>,\n",
       " <selenium.webdriver.remote.webelement.WebElement (session=\"93d6ef82a53a8c7cf75e694a66d78c1c\", element=\"EC862D51924FDF26AC61016DE05CCE32_element_11153\")>,\n",
       " <selenium.webdriver.remote.webelement.WebElement (session=\"93d6ef82a53a8c7cf75e694a66d78c1c\", element=\"EC862D51924FDF26AC61016DE05CCE32_element_11154\")>,\n",
       " <selenium.webdriver.remote.webelement.WebElement (session=\"93d6ef82a53a8c7cf75e694a66d78c1c\", element=\"EC862D51924FDF26AC61016DE05CCE32_element_11155\")>,\n",
       " <selenium.webdriver.remote.webelement.WebElement (session=\"93d6ef82a53a8c7cf75e694a66d78c1c\", element=\"EC862D51924FDF26AC61016DE05CCE32_element_11156\")>,\n",
       " <selenium.webdriver.remote.webelement.WebElement (session=\"93d6ef82a53a8c7cf75e694a66d78c1c\", element=\"EC862D51924FDF26AC61016DE05CCE32_element_11157\")>,\n",
       " <selenium.webdriver.remote.webelement.WebElement (session=\"93d6ef82a53a8c7cf75e694a66d78c1c\", element=\"EC862D51924FDF26AC61016DE05CCE32_element_11158\")>,\n",
       " <selenium.webdriver.remote.webelement.WebElement (session=\"93d6ef82a53a8c7cf75e694a66d78c1c\", element=\"EC862D51924FDF26AC61016DE05CCE32_element_11159\")>,\n",
       " <selenium.webdriver.remote.webelement.WebElement (session=\"93d6ef82a53a8c7cf75e694a66d78c1c\", element=\"EC862D51924FDF26AC61016DE05CCE32_element_11160\")>,\n",
       " <selenium.webdriver.remote.webelement.WebElement (session=\"93d6ef82a53a8c7cf75e694a66d78c1c\", element=\"EC862D51924FDF26AC61016DE05CCE32_element_11161\")>]"
      ]
     },
     "execution_count": 46,
     "metadata": {},
     "output_type": "execute_result"
    }
   ],
   "source": [
    "\n",
    "\n",
    "#let's extract laptop titles\n",
    "\n",
    "title=driver.find_elements(By.XPATH,'//span[@class=\"a-size-medium a-color-base a-text-normal\"]')\n",
    "title[0:10]\n",
    "\n"
   ]
  },
  {
   "cell_type": "code",
   "execution_count": 47,
   "id": "61d1ec89",
   "metadata": {},
   "outputs": [
    {
     "data": {
      "text/plain": [
       "['HP Windows 11 Home Victus Gaming Laptop,12Th Gen Intel Core I7-12650H,4Gb RTX 3050 Gpu,15.6-Inch (39.6 Cm),75W Tgp,Fhd,IPS,144Hz,16Gb Ddr4,512Gb Ssd,Backlit Kb,B&O (Mso,Blue,2.37 Kg),Fa0188Tx',\n",
       " 'Microsoft New Surface Pro9 13\" Intel Evo 12 Gen I7 / 32Gb / 1Tb Platinum with Windows 11 Home, 365 Family 30-Day Trial,Xbox Game Pass Ultimate 30-Day Trial Bluetooth;Wi-Fi;NFC Platinum',\n",
       " 'MSI Modern 14, Intel 12th Gen. i7-1255U, 36CM FHD 60Hz Laptop (16GB/512GB NVMe SSD/Windows 11 Home/Intel Iris Xe Graphics/Classic Black/1.4Kg), C12M-459IN',\n",
       " 'ASUS TUF Gaming F15, 15.6\"(39.62 cms) FHD 144Hz, Intel Core i7-11800H 11th Gen, 4GB NVIDIA GeForce RTX 3050 Ti, Gaming Laptop (16GB/1TB SSD/Win 11/MSO/90WHrs Battery/Black/2.30 Kg), FX506HE-HN385WS',\n",
       " 'Lenovo IdeaPad Slim 3 Intel Core i7 12th Gen 15.6 inch (39.62cm) FHD Thin & Light Laptop (16GB/512GB SSD/Windows 11/Office 2021/3months Game Pass/Arctic Grey/1.63Kg), 82RK011EIN',\n",
       " 'HP Windows 11 Home Victus Gaming Laptop,12Th Gen Intel Core I7-12650H,4Gb RTX 3050 Gpu,15.6-Inch (39.6 Cm),75W Tgp,Fhd,IPS,144Hz,16Gb Ddr4,512Gb Ssd,Backlit Kb,B&O (Mso,Blue,2.37 Kg),Fa0188Tx',\n",
       " 'Dell Inspiron 3530 Laptop, Intel Core i7-1355U Processor, 16GB, 512GB, 15.6\" (39.62cm) FHD WVA AG 120Hz, Backlit KB + FPR, Win 11 + MSO\\'21, 15 Month McAfee, Silver, 1.62kg',\n",
       " 'MSI Modern 15, Intel 13th Gen. i7-1355U, 40CM FHD 60Hz Laptop (16GB/512GB NVMe SSD/Windows 11 Home/Iris Xe Graphics/Classic Black/1.7Kg), B13M-288IN',\n",
       " 'HP Pavilion X360 11th Gen Intel Core i7 14\" (35.6cm) FHD Multitouch 2in1 Laptop (16Gb Ram/512Gb Ssd/B&O/Win 11 Home/FPR/Backlit Kb/Intel Iris Xe Graphics/Pen/Alexa/Ms Office/Silver/1.52Kg)14-Dy1047Tu',\n",
       " 'HP Victus 12th Gen Intel Core i7 15.6 inch(39.6 cm) FHD Gaming Laptop (16GB RAM/512GB SSD/RTX 3050 4GB Graphics/144Hz/9ms Response Time/Win 11/MSO/Backlit KB/B&O Audio/Xbox Pass(30 Day)),15-fa0353TX']"
      ]
     },
     "execution_count": 47,
     "metadata": {},
     "output_type": "execute_result"
    }
   ],
   "source": [
    "laptop_title = []\n",
    "\n",
    "for i in title[0:10]:\n",
    "    laptop_title.append(i.text)\n",
    "    \n",
    "laptop_title\n"
   ]
  },
  {
   "cell_type": "code",
   "execution_count": 57,
   "id": "01c74ca3",
   "metadata": {},
   "outputs": [
    {
     "data": {
      "text/plain": [
       "[<selenium.webdriver.remote.webelement.WebElement (session=\"93d6ef82a53a8c7cf75e694a66d78c1c\", element=\"EC862D51924FDF26AC61016DE05CCE32_element_11697\")>,\n",
       " <selenium.webdriver.remote.webelement.WebElement (session=\"93d6ef82a53a8c7cf75e694a66d78c1c\", element=\"EC862D51924FDF26AC61016DE05CCE32_element_11790\")>,\n",
       " <selenium.webdriver.remote.webelement.WebElement (session=\"93d6ef82a53a8c7cf75e694a66d78c1c\", element=\"EC862D51924FDF26AC61016DE05CCE32_element_11884\")>,\n",
       " <selenium.webdriver.remote.webelement.WebElement (session=\"93d6ef82a53a8c7cf75e694a66d78c1c\", element=\"EC862D51924FDF26AC61016DE05CCE32_element_11995\")>,\n",
       " <selenium.webdriver.remote.webelement.WebElement (session=\"93d6ef82a53a8c7cf75e694a66d78c1c\", element=\"EC862D51924FDF26AC61016DE05CCE32_element_12094\")>,\n",
       " <selenium.webdriver.remote.webelement.WebElement (session=\"93d6ef82a53a8c7cf75e694a66d78c1c\", element=\"EC862D51924FDF26AC61016DE05CCE32_element_12323\")>,\n",
       " <selenium.webdriver.remote.webelement.WebElement (session=\"93d6ef82a53a8c7cf75e694a66d78c1c\", element=\"EC862D51924FDF26AC61016DE05CCE32_element_12401\")>,\n",
       " <selenium.webdriver.remote.webelement.WebElement (session=\"93d6ef82a53a8c7cf75e694a66d78c1c\", element=\"EC862D51924FDF26AC61016DE05CCE32_element_12492\")>,\n",
       " <selenium.webdriver.remote.webelement.WebElement (session=\"93d6ef82a53a8c7cf75e694a66d78c1c\", element=\"EC862D51924FDF26AC61016DE05CCE32_element_12567\")>,\n",
       " <selenium.webdriver.remote.webelement.WebElement (session=\"93d6ef82a53a8c7cf75e694a66d78c1c\", element=\"EC862D51924FDF26AC61016DE05CCE32_element_12660\")>]"
      ]
     },
     "execution_count": 57,
     "metadata": {},
     "output_type": "execute_result"
    }
   ],
   "source": [
    "\n",
    "\n",
    "#lets extract rating\n",
    "\n",
    "rating = driver.find_elements(By.XPATH,'//a[@class=\"a-popover-trigger a-declarative\"]')\n",
    "\n",
    "rating[0:10]\n",
    "Rating = []\n",
    "\n",
    "for i in rating[0:10]:\n",
    "    Rating.append(i)\n",
    "    \n",
    "Rating\n",
    "\n"
   ]
  },
  {
   "cell_type": "code",
   "execution_count": 59,
   "id": "c6fdc54e",
   "metadata": {},
   "outputs": [
    {
     "data": {
      "text/plain": [
       "['81,990',\n",
       " '2,61,990',\n",
       " '54,820',\n",
       " '73,990',\n",
       " '62,031',\n",
       " '46,990.',\n",
       " '81,990',\n",
       " '77,618',\n",
       " '62,031',\n",
       " '']"
      ]
     },
     "execution_count": 59,
     "metadata": {},
     "output_type": "execute_result"
    }
   ],
   "source": [
    "\n",
    "\n",
    "#lets extract price\n",
    "\n",
    "\n",
    "price = driver.find_elements(By.XPATH,'//span[@class=\"a-price-whole\"]')\n",
    "\n",
    "price[0:10]\n",
    "Price = []\n",
    "\n",
    "for i in price[0:10]:\n",
    "    Price.append(i.text)\n",
    "    \n",
    "Price\n",
    "\n"
   ]
  },
  {
   "cell_type": "code",
   "execution_count": 60,
   "id": "0c6306b7",
   "metadata": {},
   "outputs": [
    {
     "data": {
      "text/html": [
       "<div>\n",
       "<style scoped>\n",
       "    .dataframe tbody tr th:only-of-type {\n",
       "        vertical-align: middle;\n",
       "    }\n",
       "\n",
       "    .dataframe tbody tr th {\n",
       "        vertical-align: top;\n",
       "    }\n",
       "\n",
       "    .dataframe thead th {\n",
       "        text-align: right;\n",
       "    }\n",
       "</style>\n",
       "<table border=\"1\" class=\"dataframe\">\n",
       "  <thead>\n",
       "    <tr style=\"text-align: right;\">\n",
       "      <th></th>\n",
       "      <th>Laptop_title</th>\n",
       "      <th>Rating</th>\n",
       "      <th>Price</th>\n",
       "    </tr>\n",
       "  </thead>\n",
       "  <tbody>\n",
       "    <tr>\n",
       "      <th>0</th>\n",
       "      <td>HP Windows 11 Home Victus Gaming Laptop,12Th G...</td>\n",
       "      <td>&lt;selenium.webdriver.remote.webelement.WebEleme...</td>\n",
       "      <td>81,990</td>\n",
       "    </tr>\n",
       "    <tr>\n",
       "      <th>1</th>\n",
       "      <td>Microsoft New Surface Pro9 13\" Intel Evo 12 Ge...</td>\n",
       "      <td>&lt;selenium.webdriver.remote.webelement.WebEleme...</td>\n",
       "      <td>2,61,990</td>\n",
       "    </tr>\n",
       "    <tr>\n",
       "      <th>2</th>\n",
       "      <td>MSI Modern 14, Intel 12th Gen. i7-1255U, 36CM ...</td>\n",
       "      <td>&lt;selenium.webdriver.remote.webelement.WebEleme...</td>\n",
       "      <td>54,820</td>\n",
       "    </tr>\n",
       "    <tr>\n",
       "      <th>3</th>\n",
       "      <td>ASUS TUF Gaming F15, 15.6\"(39.62 cms) FHD 144H...</td>\n",
       "      <td>&lt;selenium.webdriver.remote.webelement.WebEleme...</td>\n",
       "      <td>73,990</td>\n",
       "    </tr>\n",
       "    <tr>\n",
       "      <th>4</th>\n",
       "      <td>Lenovo IdeaPad Slim 3 Intel Core i7 12th Gen 1...</td>\n",
       "      <td>&lt;selenium.webdriver.remote.webelement.WebEleme...</td>\n",
       "      <td>62,031</td>\n",
       "    </tr>\n",
       "    <tr>\n",
       "      <th>5</th>\n",
       "      <td>HP Windows 11 Home Victus Gaming Laptop,12Th G...</td>\n",
       "      <td>&lt;selenium.webdriver.remote.webelement.WebEleme...</td>\n",
       "      <td>46,990.</td>\n",
       "    </tr>\n",
       "    <tr>\n",
       "      <th>6</th>\n",
       "      <td>Dell Inspiron 3530 Laptop, Intel Core i7-1355U...</td>\n",
       "      <td>&lt;selenium.webdriver.remote.webelement.WebEleme...</td>\n",
       "      <td>81,990</td>\n",
       "    </tr>\n",
       "    <tr>\n",
       "      <th>7</th>\n",
       "      <td>MSI Modern 15, Intel 13th Gen. i7-1355U, 40CM ...</td>\n",
       "      <td>&lt;selenium.webdriver.remote.webelement.WebEleme...</td>\n",
       "      <td>77,618</td>\n",
       "    </tr>\n",
       "    <tr>\n",
       "      <th>8</th>\n",
       "      <td>HP Pavilion X360 11th Gen Intel Core i7 14\" (3...</td>\n",
       "      <td>&lt;selenium.webdriver.remote.webelement.WebEleme...</td>\n",
       "      <td>62,031</td>\n",
       "    </tr>\n",
       "    <tr>\n",
       "      <th>9</th>\n",
       "      <td>HP Victus 12th Gen Intel Core i7 15.6 inch(39....</td>\n",
       "      <td>&lt;selenium.webdriver.remote.webelement.WebEleme...</td>\n",
       "      <td></td>\n",
       "    </tr>\n",
       "  </tbody>\n",
       "</table>\n",
       "</div>"
      ],
      "text/plain": [
       "                                        Laptop_title  \\\n",
       "0  HP Windows 11 Home Victus Gaming Laptop,12Th G...   \n",
       "1  Microsoft New Surface Pro9 13\" Intel Evo 12 Ge...   \n",
       "2  MSI Modern 14, Intel 12th Gen. i7-1255U, 36CM ...   \n",
       "3  ASUS TUF Gaming F15, 15.6\"(39.62 cms) FHD 144H...   \n",
       "4  Lenovo IdeaPad Slim 3 Intel Core i7 12th Gen 1...   \n",
       "5  HP Windows 11 Home Victus Gaming Laptop,12Th G...   \n",
       "6  Dell Inspiron 3530 Laptop, Intel Core i7-1355U...   \n",
       "7  MSI Modern 15, Intel 13th Gen. i7-1355U, 40CM ...   \n",
       "8  HP Pavilion X360 11th Gen Intel Core i7 14\" (3...   \n",
       "9  HP Victus 12th Gen Intel Core i7 15.6 inch(39....   \n",
       "\n",
       "                                              Rating     Price  \n",
       "0  <selenium.webdriver.remote.webelement.WebEleme...    81,990  \n",
       "1  <selenium.webdriver.remote.webelement.WebEleme...  2,61,990  \n",
       "2  <selenium.webdriver.remote.webelement.WebEleme...    54,820  \n",
       "3  <selenium.webdriver.remote.webelement.WebEleme...    73,990  \n",
       "4  <selenium.webdriver.remote.webelement.WebEleme...    62,031  \n",
       "5  <selenium.webdriver.remote.webelement.WebEleme...   46,990.  \n",
       "6  <selenium.webdriver.remote.webelement.WebEleme...    81,990  \n",
       "7  <selenium.webdriver.remote.webelement.WebEleme...    77,618  \n",
       "8  <selenium.webdriver.remote.webelement.WebEleme...    62,031  \n",
       "9  <selenium.webdriver.remote.webelement.WebEleme...            "
      ]
     },
     "execution_count": 60,
     "metadata": {},
     "output_type": "execute_result"
    }
   ],
   "source": [
    "#lets make dataframe for this scrached data\n",
    "\n",
    "df = pd.DataFrame({'Laptop_title':laptop_title,'Rating':Rating,'Price':Price})\n",
    "\n",
    "df"
   ]
  },
  {
   "cell_type": "code",
   "execution_count": null,
   "id": "8dc824ce",
   "metadata": {},
   "outputs": [],
   "source": []
  }
 ],
 "metadata": {
  "kernelspec": {
   "display_name": "Python 3 (ipykernel)",
   "language": "python",
   "name": "python3"
  },
  "language_info": {
   "codemirror_mode": {
    "name": "ipython",
    "version": 3
   },
   "file_extension": ".py",
   "mimetype": "text/x-python",
   "name": "python",
   "nbconvert_exporter": "python",
   "pygments_lexer": "ipython3",
   "version": "3.11.3"
  }
 },
 "nbformat": 4,
 "nbformat_minor": 5
}
