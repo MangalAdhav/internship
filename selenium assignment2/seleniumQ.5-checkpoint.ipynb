{
 "cells": [
  {
   "cell_type": "code",
   "execution_count": 1,
   "id": "160818a2",
   "metadata": {},
   "outputs": [],
   "source": [
    "#Q5: Scrape 10 reviews data from flipkart.com for iphone11 phone. You have to go the link:\n",
    "\n",
    "# Let's now import all the required libraries.\n",
    "import selenium\n",
    "import pandas as pd\n",
    "from selenium import webdriver\n",
    "import warnings\n",
    "warnings.filterwarnings('ignore')\n",
    "import time\n",
    "from selenium.webdriver.common.keys import Keys\n",
    "from selenium.webdriver.common.by import By"
   ]
  },
  {
   "cell_type": "code",
   "execution_count": 2,
   "id": "877e0c0a",
   "metadata": {},
   "outputs": [],
   "source": [
    "#connect to the web driver\n",
    "driver = webdriver.Chrome()\n"
   ]
  },
  {
   "cell_type": "code",
   "execution_count": 3,
   "id": "59098026",
   "metadata": {},
   "outputs": [],
   "source": [
    "#lets get website\n",
    "driver.get(\"https://www.flipkart.com/apple-iphone-11-black-64-gb/product-reviews/itm4e5041ba101fd?pid=MOBFWQ6BXGJCEYNY&lid=LSTMOBFWQ6BXGJCEYNYZXSHRJ&market\")"
   ]
  },
  {
   "cell_type": "code",
   "execution_count": 4,
   "id": "4ec9dc15",
   "metadata": {},
   "outputs": [
    {
     "data": {
      "text/plain": [
       "['5', '5', '5', '5', '5', '5', '5', '5', '5', '5']"
      ]
     },
     "execution_count": 4,
     "metadata": {},
     "output_type": "execute_result"
    }
   ],
   "source": [
    "rating=driver.find_elements(By.XPATH,'//div[@class=\"_3LWZlK _1BLPMq\"]')\n",
    "rating\n",
    "Rate = []\n",
    "\n",
    "for i in rating:\n",
    "    Rate.append(i.text)\n",
    "    \n",
    "\n",
    "button1=driver.find_element(By.XPATH,'/html/body/div/div/div[3]/div/div/div[2]/div[13]/div/div/nav/a[11]/span') #scraping the list of buttons from the page\n",
    "button1.click\n",
    "Rate"
   ]
  },
  {
   "cell_type": "code",
   "execution_count": 5,
   "id": "26e530a9",
   "metadata": {},
   "outputs": [
    {
     "data": {
      "text/plain": [
       "['Terrific',\n",
       " 'Best in the market!',\n",
       " 'Classy product',\n",
       " 'Worth every penny',\n",
       " 'Wonderful',\n",
       " 'Perfect product!',\n",
       " 'Terrific purchase',\n",
       " 'Just wow!',\n",
       " 'Fabulous!',\n",
       " 'Must buy!']"
      ]
     },
     "execution_count": 5,
     "metadata": {},
     "output_type": "execute_result"
    }
   ],
   "source": [
    "review_sum=driver.find_elements(By.XPATH,'//p[@class=\"_2-N8zT\"]')\n",
    "review_sum\n",
    "Review = []\n",
    "\n",
    "for i in review_sum:\n",
    "    Review.append(i.text)\n",
    "    \n",
    "\n",
    "button=driver.find_element(By.XPATH,'//a[@class=\"_1LKTO3\"]') #scraping the list of buttons from the page\n",
    "button.click()\n",
    "Review"
   ]
  },
  {
   "cell_type": "code",
   "execution_count": 6,
   "id": "5851d899",
   "metadata": {},
   "outputs": [
    {
     "data": {
      "text/plain": [
       "['iPhone 11 is a good phone. Not a very big difference between 12 except for the OLED screen and a very minor camera improvement which is you cant make a difference. If you are planning for a iPhone and you have budget you definitely can go for this without second thoughts.\\nNow some people are complaining and giving review 0 or so because there is no charger and headphones, but thats been already mentioned so I assume they are illiterate. Its not that Flipkart is removing them duh. Anyways bee...\\nREAD MORE',\n",
       " 'Excellent Phone.',\n",
       " 'very good camera quality',\n",
       " 'V Good all',\n",
       " 'NYC',\n",
       " 'It’s very good battery life and display and video quality and ther performance of iPhone.....🔥🔥🌈',\n",
       " 'Value for money 🖤🖤',\n",
       " 'Go for iPhone 11 , if confused between iPhone 11 or iPhone 12 mini.Battery Life is enhanced , it worked for complete 2 days without charging it. Explored new features of taking screenshot by clicking on apple logo by Haptic Touch , Portrait mode with stage effect enhanced & slow motion selfie.',\n",
       " 'Good product 👌I love iPhone',\n",
       " 'Really satisfied with the Product I received... It’s totally genuine and the packaging was also really good so if ur planning to buy just go for it.']"
      ]
     },
     "execution_count": 6,
     "metadata": {},
     "output_type": "execute_result"
    }
   ],
   "source": [
    "full_review=driver.find_elements(By.XPATH,'//div[@class=\"t-ZTKy\"]')\n",
    "full_review\n",
    "Full_Review = []\n",
    "\n",
    "for i in full_review:\n",
    "    Full_Review.append(i.text)\n",
    "    \n",
    "\n",
    "button=driver.find_element(By.XPATH,'//a[@class=\"_1LKTO3\"]') #scraping the list of buttons from the page\n",
    "button.click()\n",
    "Full_Review"
   ]
  },
  {
   "cell_type": "code",
   "execution_count": 7,
   "id": "65b807b3",
   "metadata": {},
   "outputs": [
    {
     "name": "stdout",
     "output_type": "stream",
     "text": [
      "10 10 10\n"
     ]
    }
   ],
   "source": [
    "print(len(Rate),len(Review),len(Full_Review))"
   ]
  },
  {
   "cell_type": "code",
   "execution_count": 61,
   "id": "f063a0c7",
   "metadata": {},
   "outputs": [
    {
     "data": {
      "text/html": [
       "<div>\n",
       "<style scoped>\n",
       "    .dataframe tbody tr th:only-of-type {\n",
       "        vertical-align: middle;\n",
       "    }\n",
       "\n",
       "    .dataframe tbody tr th {\n",
       "        vertical-align: top;\n",
       "    }\n",
       "\n",
       "    .dataframe thead th {\n",
       "        text-align: right;\n",
       "    }\n",
       "</style>\n",
       "<table border=\"1\" class=\"dataframe\">\n",
       "  <thead>\n",
       "    <tr style=\"text-align: right;\">\n",
       "      <th></th>\n",
       "      <th>Rating</th>\n",
       "      <th>Review_summary</th>\n",
       "      <th>Full_review</th>\n",
       "    </tr>\n",
       "  </thead>\n",
       "  <tbody>\n",
       "    <tr>\n",
       "      <th>0</th>\n",
       "      <td>5</td>\n",
       "      <td>Perfect product!</td>\n",
       "      <td>It’s really awesome</td>\n",
       "    </tr>\n",
       "    <tr>\n",
       "      <th>1</th>\n",
       "      <td>5</td>\n",
       "      <td>Wonderful</td>\n",
       "      <td>Excellent Phone.</td>\n",
       "    </tr>\n",
       "    <tr>\n",
       "      <th>2</th>\n",
       "      <td>5</td>\n",
       "      <td>Terrific</td>\n",
       "      <td>very good camera quality</td>\n",
       "    </tr>\n",
       "    <tr>\n",
       "      <th>3</th>\n",
       "      <td>5</td>\n",
       "      <td>Classy product</td>\n",
       "      <td>iPhone 11 is a good phone. Not a very big diff...</td>\n",
       "    </tr>\n",
       "    <tr>\n",
       "      <th>4</th>\n",
       "      <td>5</td>\n",
       "      <td>Best in the market!</td>\n",
       "      <td>NYC</td>\n",
       "    </tr>\n",
       "    <tr>\n",
       "      <th>5</th>\n",
       "      <td>5</td>\n",
       "      <td>Worth every penny</td>\n",
       "      <td>It’s very good battery life and display and vi...</td>\n",
       "    </tr>\n",
       "    <tr>\n",
       "      <th>6</th>\n",
       "      <td>5</td>\n",
       "      <td>Perfect product!</td>\n",
       "      <td>Value for money 🖤🖤</td>\n",
       "    </tr>\n",
       "    <tr>\n",
       "      <th>7</th>\n",
       "      <td>5</td>\n",
       "      <td>Terrific purchase</td>\n",
       "      <td>Go for iPhone 11 , if confused between iPhone ...</td>\n",
       "    </tr>\n",
       "    <tr>\n",
       "      <th>8</th>\n",
       "      <td>5</td>\n",
       "      <td>Just wow!</td>\n",
       "      <td>Good product 👌I love iPhone</td>\n",
       "    </tr>\n",
       "    <tr>\n",
       "      <th>9</th>\n",
       "      <td>5</td>\n",
       "      <td>Fabulous!</td>\n",
       "      <td>Really satisfied with the Product I received.....</td>\n",
       "    </tr>\n",
       "  </tbody>\n",
       "</table>\n",
       "</div>"
      ],
      "text/plain": [
       "  Rating       Review_summary  \\\n",
       "0      5     Perfect product!   \n",
       "1      5            Wonderful   \n",
       "2      5             Terrific   \n",
       "3      5       Classy product   \n",
       "4      5  Best in the market!   \n",
       "5      5    Worth every penny   \n",
       "6      5     Perfect product!   \n",
       "7      5    Terrific purchase   \n",
       "8      5            Just wow!   \n",
       "9      5            Fabulous!   \n",
       "\n",
       "                                         Full_review  \n",
       "0                                It’s really awesome  \n",
       "1                                   Excellent Phone.  \n",
       "2                           very good camera quality  \n",
       "3  iPhone 11 is a good phone. Not a very big diff...  \n",
       "4                                                NYC  \n",
       "5  It’s very good battery life and display and vi...  \n",
       "6                                 Value for money 🖤🖤  \n",
       "7  Go for iPhone 11 , if confused between iPhone ...  \n",
       "8                        Good product 👌I love iPhone  \n",
       "9  Really satisfied with the Product I received.....  "
      ]
     },
     "execution_count": 61,
     "metadata": {},
     "output_type": "execute_result"
    }
   ],
   "source": [
    "#lets  make dataframe from the scraped data\n",
    "\n",
    "df = pd.DataFrame({'Rating': Rate,'Review_summary':Review,'Full_review':Full_Review})\n",
    "\n",
    "df\n"
   ]
  },
  {
   "cell_type": "code",
   "execution_count": null,
   "id": "dd7d5df5",
   "metadata": {},
   "outputs": [],
   "source": []
  },
  {
   "cell_type": "code",
   "execution_count": null,
   "id": "65a257a8",
   "metadata": {},
   "outputs": [],
   "source": []
  },
  {
   "cell_type": "code",
   "execution_count": null,
   "id": "b01fdecd",
   "metadata": {},
   "outputs": [],
   "source": []
  },
  {
   "cell_type": "code",
   "execution_count": null,
   "id": "7c0ea0dc",
   "metadata": {},
   "outputs": [],
   "source": []
  }
 ],
 "metadata": {
  "kernelspec": {
   "display_name": "Python 3 (ipykernel)",
   "language": "python",
   "name": "python3"
  },
  "language_info": {
   "codemirror_mode": {
    "name": "ipython",
    "version": 3
   },
   "file_extension": ".py",
   "mimetype": "text/x-python",
   "name": "python",
   "nbconvert_exporter": "python",
   "pygments_lexer": "ipython3",
   "version": "3.11.3"
  }
 },
 "nbformat": 4,
 "nbformat_minor": 5
}
