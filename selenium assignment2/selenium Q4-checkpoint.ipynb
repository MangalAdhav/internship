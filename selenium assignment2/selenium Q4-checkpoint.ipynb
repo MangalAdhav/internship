{
 "cells": [
  {
   "cell_type": "code",
   "execution_count": null,
   "id": "ee6d9a8c",
   "metadata": {},
   "outputs": [],
   "source": [
    "#Q.4 Scrape data of first 100 sunglasses listings on flipkart.com. You have to scrape four attributes: \n",
    "# Brand,product_descriptionand price."
   ]
  },
  {
   "cell_type": "code",
   "execution_count": 10,
   "id": "8056cbda",
   "metadata": {},
   "outputs": [],
   "source": [
    "#import all required libraries \n",
    "import selenium\n",
    "import pandas as pd\n",
    "from selenium import webdriver\n",
    "import warnings\n",
    "warnings.filterwarnings('ignore')\n",
    "import time\n",
    "from selenium.webdriver.common.keys import Keys\n",
    "from selenium.webdriver.common.by import By\n"
   ]
  },
  {
   "cell_type": "code",
   "execution_count": 11,
   "id": "c715abe9",
   "metadata": {},
   "outputs": [],
   "source": [
    "#lets connect with web driver\n",
    "driver = webdriver.Chrome()\n"
   ]
  },
  {
   "cell_type": "code",
   "execution_count": 12,
   "id": "7c15f081",
   "metadata": {},
   "outputs": [],
   "source": [
    "#onpening the flipkart website on automated chrome window\n",
    "driver.get('https://www.flipkart.com/')\n"
   ]
  },
  {
   "cell_type": "code",
   "execution_count": 13,
   "id": "10b5833b",
   "metadata": {},
   "outputs": [],
   "source": [
    "#search the “sunglasses” and click search button \n",
    "\n",
    "search_product = driver.find_element(By.CLASS_NAME,\"Pke_EE\")\n",
    "search_product.send_keys('sunglasses')\n"
   ]
  },
  {
   "cell_type": "code",
   "execution_count": 14,
   "id": "2771b53d",
   "metadata": {},
   "outputs": [],
   "source": [
    "#click on the search button\n",
    "\n",
    "search = driver.find_element(By.CLASS_NAME,\"_2iLD__\")\n",
    "search.click()\n"
   ]
  },
  {
   "cell_type": "code",
   "execution_count": 19,
   "id": "56f71426",
   "metadata": {},
   "outputs": [],
   "source": [
    "Brand = []\n",
    "Product_Description = []\n",
    "Price= []\n",
    "Discount=[]\n",
    "\n",
    "\n",
    "for i in range(3):\n",
    "    brand = driver.find_elements(By.XPATH,'//div[@class=\"_2WkVRV\"]')\n",
    "    for i in brand:Brand.append(i.text)\n",
    "    \n",
    "    product_des = driver.find_elements(By.XPATH,'//a[@class=\"IRpwTa\"]')\n",
    "    for i in product_des:Product_Description.append(i.text)    \n",
    "    \n",
    "    price = driver.find_elements(By.XPATH,'//div[@class=\"_30jeq3\"]')\n",
    "    for i in price:Price.append(i.text)\n",
    "        \n",
    "    discount = driver.find_elements(By.XPATH,'//div[@class=\"_3Ay6Sb\"]')\n",
    "    for i in discount:Discount.append(i.text)\n",
    "    \n",
    "time.sleep(2)\n",
    "        \n",
    "nxt_button=driver.find_element(By.XPATH,'//a[@class=\"_1LKTO3\"]') #scraping the list of buttons from the page\n",
    "nxt_button.click()\n"
   ]
  },
  {
   "cell_type": "code",
   "execution_count": 20,
   "id": "82f56d8e",
   "metadata": {},
   "outputs": [
    {
     "name": "stdout",
     "output_type": "stream",
     "text": [
      "120 120 120\n"
     ]
    }
   ],
   "source": [
    "print(len(Brand),len(Product_Description),len(Price))\n"
   ]
  },
  {
   "cell_type": "code",
   "execution_count": 21,
   "id": "ce410c30",
   "metadata": {},
   "outputs": [
    {
     "data": {
      "text/html": [
       "<div>\n",
       "<style scoped>\n",
       "    .dataframe tbody tr th:only-of-type {\n",
       "        vertical-align: middle;\n",
       "    }\n",
       "\n",
       "    .dataframe tbody tr th {\n",
       "        vertical-align: top;\n",
       "    }\n",
       "\n",
       "    .dataframe thead th {\n",
       "        text-align: right;\n",
       "    }\n",
       "</style>\n",
       "<table border=\"1\" class=\"dataframe\">\n",
       "  <thead>\n",
       "    <tr style=\"text-align: right;\">\n",
       "      <th></th>\n",
       "      <th>Brand</th>\n",
       "      <th>Product_Description</th>\n",
       "      <th>Price</th>\n",
       "      <th>Discount</th>\n",
       "    </tr>\n",
       "  </thead>\n",
       "  <tbody>\n",
       "    <tr>\n",
       "      <th>0</th>\n",
       "      <td>AISLIN</td>\n",
       "      <td>UV Protection, Gradient Rectangular, Retro Squ...</td>\n",
       "      <td>₹418</td>\n",
       "      <td>72% off</td>\n",
       "    </tr>\n",
       "    <tr>\n",
       "      <th>1</th>\n",
       "      <td>AISLIN</td>\n",
       "      <td>Polarized, UV Protection Rectangular, Wayfarer...</td>\n",
       "      <td>₹725</td>\n",
       "      <td>71% off</td>\n",
       "    </tr>\n",
       "    <tr>\n",
       "      <th>2</th>\n",
       "      <td>PIRASO</td>\n",
       "      <td>UV Protection Butterfly Sunglasses (60)</td>\n",
       "      <td>₹388</td>\n",
       "      <td>85% off</td>\n",
       "    </tr>\n",
       "    <tr>\n",
       "      <th>3</th>\n",
       "      <td>Elligator</td>\n",
       "      <td>UV Protection Cat-eye, Retro Square, Oval, Rou...</td>\n",
       "      <td>₹149</td>\n",
       "      <td>75% off</td>\n",
       "    </tr>\n",
       "    <tr>\n",
       "      <th>4</th>\n",
       "      <td>Fastrack</td>\n",
       "      <td>UV Protection Wayfarer Sunglasses (Free Size)</td>\n",
       "      <td>₹629</td>\n",
       "      <td>42% off</td>\n",
       "    </tr>\n",
       "    <tr>\n",
       "      <th>...</th>\n",
       "      <td>...</td>\n",
       "      <td>...</td>\n",
       "      <td>...</td>\n",
       "      <td>...</td>\n",
       "    </tr>\n",
       "    <tr>\n",
       "      <th>115</th>\n",
       "      <td>Singco India</td>\n",
       "      <td>UV Protection, Riding Glasses Retro Square, Re...</td>\n",
       "      <td>₹429</td>\n",
       "      <td>82% off</td>\n",
       "    </tr>\n",
       "    <tr>\n",
       "      <th>116</th>\n",
       "      <td>ROYAL SON</td>\n",
       "      <td>Polarized, UV Protection Retro Square, Over-si...</td>\n",
       "      <td>₹1,139</td>\n",
       "      <td>54% off</td>\n",
       "    </tr>\n",
       "    <tr>\n",
       "      <th>117</th>\n",
       "      <td>AISLIN</td>\n",
       "      <td>Polarized, UV Protection Wayfarer Sunglasses (53)</td>\n",
       "      <td>₹645</td>\n",
       "      <td>71% off</td>\n",
       "    </tr>\n",
       "    <tr>\n",
       "      <th>118</th>\n",
       "      <td>RESIST EYEWEAR</td>\n",
       "      <td>Toughened Glass Lens, UV Protection, Riding Gl...</td>\n",
       "      <td>₹1,199</td>\n",
       "      <td>76% off</td>\n",
       "    </tr>\n",
       "    <tr>\n",
       "      <th>119</th>\n",
       "      <td>Singco India</td>\n",
       "      <td>Gradient, Toughened Glass Lens, UV Protection ...</td>\n",
       "      <td>₹590</td>\n",
       "      <td>70% off</td>\n",
       "    </tr>\n",
       "  </tbody>\n",
       "</table>\n",
       "<p>120 rows × 4 columns</p>\n",
       "</div>"
      ],
      "text/plain": [
       "              Brand                                Product_Description  \\\n",
       "0            AISLIN  UV Protection, Gradient Rectangular, Retro Squ...   \n",
       "1            AISLIN  Polarized, UV Protection Rectangular, Wayfarer...   \n",
       "2            PIRASO            UV Protection Butterfly Sunglasses (60)   \n",
       "3         Elligator  UV Protection Cat-eye, Retro Square, Oval, Rou...   \n",
       "4          Fastrack      UV Protection Wayfarer Sunglasses (Free Size)   \n",
       "..              ...                                                ...   \n",
       "115    Singco India  UV Protection, Riding Glasses Retro Square, Re...   \n",
       "116       ROYAL SON  Polarized, UV Protection Retro Square, Over-si...   \n",
       "117          AISLIN  Polarized, UV Protection Wayfarer Sunglasses (53)   \n",
       "118  RESIST EYEWEAR  Toughened Glass Lens, UV Protection, Riding Gl...   \n",
       "119    Singco India  Gradient, Toughened Glass Lens, UV Protection ...   \n",
       "\n",
       "      Price Discount  \n",
       "0      ₹418  72% off  \n",
       "1      ₹725  71% off  \n",
       "2      ₹388  85% off  \n",
       "3      ₹149  75% off  \n",
       "4      ₹629  42% off  \n",
       "..      ...      ...  \n",
       "115    ₹429  82% off  \n",
       "116  ₹1,139  54% off  \n",
       "117    ₹645  71% off  \n",
       "118  ₹1,199  76% off  \n",
       "119    ₹590  70% off  \n",
       "\n",
       "[120 rows x 4 columns]"
      ]
     },
     "execution_count": 21,
     "metadata": {},
     "output_type": "execute_result"
    }
   ],
   "source": [
    "#lets  make dataframe from the scraped data\n",
    "\n",
    "df = pd.DataFrame({'Brand': Brand,'Product_Description':Product_Description,'Price':Price,'Discount': Discount})\n",
    "\n",
    "df\n"
   ]
  },
  {
   "cell_type": "code",
   "execution_count": null,
   "id": "fa4f4468",
   "metadata": {},
   "outputs": [],
   "source": []
  },
  {
   "cell_type": "code",
   "execution_count": null,
   "id": "9cfa7ead",
   "metadata": {},
   "outputs": [],
   "source": []
  }
 ],
 "metadata": {
  "kernelspec": {
   "display_name": "Python 3 (ipykernel)",
   "language": "python",
   "name": "python3"
  },
  "language_info": {
   "codemirror_mode": {
    "name": "ipython",
    "version": 3
   },
   "file_extension": ".py",
   "mimetype": "text/x-python",
   "name": "python",
   "nbconvert_exporter": "python",
   "pygments_lexer": "ipython3",
   "version": "3.11.3"
  }
 },
 "nbformat": 4,
 "nbformat_minor": 5
}
