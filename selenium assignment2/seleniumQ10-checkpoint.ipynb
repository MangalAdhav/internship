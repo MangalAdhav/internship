{
 "cells": [
  {
   "cell_type": "code",
   "execution_count": 1,
   "id": "5ffa42f2",
   "metadata": {},
   "outputs": [],
   "source": [
    "#Q10: Write a python program to display list of 50 Most expensive cars in the world (i.e.\n",
    "#Car name and Price) from https://www.motor1.com/\n",
    "\n",
    "#import all required libraries \n",
    "import selenium\n",
    "import pandas as pd\n",
    "from selenium import webdriver\n",
    "import warnings\n",
    "warnings.filterwarnings('ignore')\n",
    "import time\n",
    "from selenium.webdriver.common.keys import Keys\n",
    "from selenium.webdriver.common.by import By\n"
   ]
  },
  {
   "cell_type": "code",
   "execution_count": 2,
   "id": "c5232ba5",
   "metadata": {},
   "outputs": [],
   "source": [
    "#lets connect with web driver\n",
    "driver = webdriver.Chrome()\n"
   ]
  },
  {
   "cell_type": "code",
   "execution_count": 3,
   "id": "7c81c84a",
   "metadata": {},
   "outputs": [],
   "source": [
    "#opening website\n",
    "driver.get('https://www.motor1.com/')\n"
   ]
  },
  {
   "cell_type": "code",
   "execution_count": 7,
   "id": "4c28f2d5",
   "metadata": {},
   "outputs": [],
   "source": [
    "title=driver.find_element(By.XPATH,'/html/body/div[9]/div[2]/div/div/div[3]/div/div/div/form/input')\n",
    "title.send_keys('50 most expensive cars')"
   ]
  },
  {
   "cell_type": "code",
   "execution_count": 8,
   "id": "3c3abebb",
   "metadata": {},
   "outputs": [],
   "source": [
    "search=driver.find_element(By.XPATH,'//button[@class=\"m1-search-panel-button m1-search-form-button-animate icon-search-svg\"]')\n",
    "search.click()"
   ]
  },
  {
   "cell_type": "code",
   "execution_count": 10,
   "id": "915aa2d1",
   "metadata": {},
   "outputs": [],
   "source": [
    "search1=driver.find_element(By.XPATH,'/html/body/div[9]/div[9]/div/div[1]/div/div/div[2]/div/div[1]/h3/a')\n",
    "search1.click()"
   ]
  },
  {
   "cell_type": "code",
   "execution_count": 18,
   "id": "0c9c6de5",
   "metadata": {},
   "outputs": [],
   "source": [
    "\n",
    "\n",
    "#lets scrape quote\n",
    "Car_name = []\n",
    "Price = []\n",
    "\n",
    "\n",
    "for i in range(3):\n",
    "    car_n = driver.find_elements(By.XPATH,'//h3[@class=\"subheader\"]')\n",
    "    for i in car_n:Car_name.append(i.text)\n",
    "    \n",
    "    price = driver.find_elements(By.XPATH,'//h3[@class=\"subheader\"]/span') #not able to acess child class.\n",
    "    for i in price:Price.append(i.text)    \n",
    "    \n",
    "        \n",
    "time.sleep(2)\n",
    "        \n",
    "\n",
    "\n"
   ]
  },
  {
   "cell_type": "code",
   "execution_count": 20,
   "id": "4fa97425",
   "metadata": {},
   "outputs": [
    {
     "data": {
      "text/html": [
       "<div>\n",
       "<style scoped>\n",
       "    .dataframe tbody tr th:only-of-type {\n",
       "        vertical-align: middle;\n",
       "    }\n",
       "\n",
       "    .dataframe tbody tr th {\n",
       "        vertical-align: top;\n",
       "    }\n",
       "\n",
       "    .dataframe thead th {\n",
       "        text-align: right;\n",
       "    }\n",
       "</style>\n",
       "<table border=\"1\" class=\"dataframe\">\n",
       "  <thead>\n",
       "    <tr style=\"text-align: right;\">\n",
       "      <th></th>\n",
       "      <th>Car_name</th>\n",
       "    </tr>\n",
       "  </thead>\n",
       "  <tbody>\n",
       "    <tr>\n",
       "      <th>0</th>\n",
       "      <td>Aston Martin Valour</td>\n",
       "    </tr>\n",
       "    <tr>\n",
       "      <th>1</th>\n",
       "      <td>McLaren Elva</td>\n",
       "    </tr>\n",
       "    <tr>\n",
       "      <th>2</th>\n",
       "      <td>Czinger 21C</td>\n",
       "    </tr>\n",
       "    <tr>\n",
       "      <th>3</th>\n",
       "      <td>Ferrari Monza</td>\n",
       "    </tr>\n",
       "    <tr>\n",
       "      <th>4</th>\n",
       "      <td>Gordon Murray T.33</td>\n",
       "    </tr>\n",
       "    <tr>\n",
       "      <th>...</th>\n",
       "      <td>...</td>\n",
       "    </tr>\n",
       "    <tr>\n",
       "      <th>148</th>\n",
       "      <td>Rolls-Royce Sweptail</td>\n",
       "    </tr>\n",
       "    <tr>\n",
       "      <th>149</th>\n",
       "      <td>Bugatti La Voiture Noire</td>\n",
       "    </tr>\n",
       "    <tr>\n",
       "      <th>150</th>\n",
       "      <td>Rolls-Royce Boat Tail*</td>\n",
       "    </tr>\n",
       "    <tr>\n",
       "      <th>151</th>\n",
       "      <td>Rolls-Royce La Rose Noire Droptail</td>\n",
       "    </tr>\n",
       "    <tr>\n",
       "      <th>152</th>\n",
       "      <td>Most Expensive Cars In The World</td>\n",
       "    </tr>\n",
       "  </tbody>\n",
       "</table>\n",
       "<p>153 rows × 1 columns</p>\n",
       "</div>"
      ],
      "text/plain": [
       "                               Car_name\n",
       "0                   Aston Martin Valour\n",
       "1                          McLaren Elva\n",
       "2                           Czinger 21C\n",
       "3                         Ferrari Monza\n",
       "4                    Gordon Murray T.33\n",
       "..                                  ...\n",
       "148                Rolls-Royce Sweptail\n",
       "149            Bugatti La Voiture Noire\n",
       "150              Rolls-Royce Boat Tail*\n",
       "151  Rolls-Royce La Rose Noire Droptail\n",
       "152    Most Expensive Cars In The World\n",
       "\n",
       "[153 rows x 1 columns]"
      ]
     },
     "execution_count": 20,
     "metadata": {},
     "output_type": "execute_result"
    }
   ],
   "source": [
    "#lets  make dataframe from the scraped data\n",
    "\n",
    "df = pd.DataFrame({'Car_name': Car_name})\n",
    "\n",
    "df\n"
   ]
  },
  {
   "cell_type": "code",
   "execution_count": null,
   "id": "670a67c7",
   "metadata": {},
   "outputs": [],
   "source": []
  }
 ],
 "metadata": {
  "kernelspec": {
   "display_name": "Python 3 (ipykernel)",
   "language": "python",
   "name": "python3"
  },
  "language_info": {
   "codemirror_mode": {
    "name": "ipython",
    "version": 3
   },
   "file_extension": ".py",
   "mimetype": "text/x-python",
   "name": "python",
   "nbconvert_exporter": "python",
   "pygments_lexer": "ipython3",
   "version": "3.11.3"
  }
 },
 "nbformat": 4,
 "nbformat_minor": 5
}
