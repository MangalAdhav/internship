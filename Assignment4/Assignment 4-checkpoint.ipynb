{
 "cells": [
  {
   "cell_type": "code",
   "execution_count": 2,
   "id": "ceb01624",
   "metadata": {},
   "outputs": [
    {
     "name": "stdout",
     "output_type": "stream",
     "text": [
      "Enter a number: 6\n",
      "The factorial of 6 is 720\n"
     ]
    }
   ],
   "source": [
    "#Question no.11.Write a python program to find the factorial of a number.\n",
    "\n",
    "num = int(input(\"Enter a number: \")) \n",
    "factorial = 1 \n",
    "if num == 0 or num==1: \n",
    "    print(\"The factorialy  of 0 is 1\")\n",
    "else: \n",
    "    for i in range(1, num + 1): \n",
    "        factorial = factorial * i \n",
    "    print(\"The factorial of\", num, \"is\", factorial) \n"
   ]
  },
  {
   "cell_type": "code",
   "execution_count": 22,
   "id": "1194c70e",
   "metadata": {},
   "outputs": [
    {
     "name": "stdout",
     "output_type": "stream",
     "text": [
      "Enter a number: 24\n",
      "24 is a composite number\n"
     ]
    }
   ],
   "source": [
    "# Question no.12.Write a python program to find whether a number is prime or composite.\n",
    "\n",
    "n = int(input(\"Enter a number: \")) \n",
    "flag = False \n",
    "if n == 1: \n",
    "    print(n, \"is neither prime nor composite\")\n",
    "elif num > 1: \n",
    "    \n",
    "    for i in range(2, num):\n",
    "        if (n % i) == 0: \n",
    "            flag = True\n",
    "            \n",
    "            break\n",
    "    \n",
    "    if flag:\n",
    "        print(n, \"is a composite number\")\n",
    "    else:\n",
    "        print(n, \"is a prime number\")\n",
    "else: \n",
    "    print(n, \"is not a valid input\")\n",
    "        "
   ]
  },
  {
   "cell_type": "code",
   "execution_count": 23,
   "id": "301e231a",
   "metadata": {},
   "outputs": [
    {
     "name": "stdout",
     "output_type": "stream",
     "text": [
      "pls enter palindrome word: nitin\n",
      "True\n"
     ]
    }
   ],
   "source": [
    "# Question no. 13. Write a python program to check whether a given string is palindrome or not.\n",
    "\n",
    "s= str(input(\"pls enter palindrome word: \"))\n",
    "def palindrome (s):\n",
    "    return s == s[::-1]\n",
    "\n",
    "print (palindrome (s)) \n"
   ]
  },
  {
   "cell_type": "code",
   "execution_count": 1,
   "id": "a162818b",
   "metadata": {},
   "outputs": [
    {
     "name": "stdout",
     "output_type": "stream",
     "text": [
      "Enter the length of the first side: 4\n",
      "Enter the length of the second side: 3\n",
      "The length of the third side is: 5.0\n"
     ]
    }
   ],
   "source": [
    "# Question no.14.Write a Python program to get the third side of right-angled triangle from two given sides.\n",
    "\n",
    "import math\n",
    "\n",
    "a = float(input(\"Enter the length of the first side: \"))\n",
    "b = float(input(\"Enter the length of the second side: \"))\n",
    "\n",
    "c = math.sqrt(a**2 + b**2)\n",
    "\n",
    "print(\"The length of the third side is:\", c)\n"
   ]
  },
  {
   "cell_type": "code",
   "execution_count": 2,
   "id": "22c47967",
   "metadata": {},
   "outputs": [
    {
     "name": "stdout",
     "output_type": "stream",
     "text": [
      "enter any stringmangal\n",
      "The frequency of each character in 'mangal' is:\n",
      "{'m': 1, 'a': 2, 'n': 1, 'g': 1, 'l': 1}\n"
     ]
    }
   ],
   "source": [
    "# Question no.15. Write a python program to print the frequency of each of the characters present in a given string.\n",
    "def freq(s):\n",
    "    word = {}\n",
    "    for i in s:\n",
    "        if i in word:\n",
    "            word[i] += 1\n",
    "        else:\n",
    "            word[i] = 1\n",
    "    return word\n",
    "s= str(input(\"enter any string\"))\n",
    "print(f\"The frequency of each character in '{s}' is:\")\n",
    "print(freq(s))\n"
   ]
  },
  {
   "cell_type": "code",
   "execution_count": null,
   "id": "7a061496",
   "metadata": {},
   "outputs": [],
   "source": []
  }
 ],
 "metadata": {
  "kernelspec": {
   "display_name": "Python 3 (ipykernel)",
   "language": "python",
   "name": "python3"
  },
  "language_info": {
   "codemirror_mode": {
    "name": "ipython",
    "version": 3
   },
   "file_extension": ".py",
   "mimetype": "text/x-python",
   "name": "python",
   "nbconvert_exporter": "python",
   "pygments_lexer": "ipython3",
   "version": "3.11.3"
  }
 },
 "nbformat": 4,
 "nbformat_minor": 5
}
